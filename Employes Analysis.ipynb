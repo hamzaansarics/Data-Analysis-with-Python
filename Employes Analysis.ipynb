{
 "cells": [
  {
   "cell_type": "code",
   "execution_count": 226,
   "metadata": {},
   "outputs": [],
   "source": [
    "import numpy as np\n",
    "import pandas as pd\n",
    "import matplotlib.pyplot as plt"
   ]
  },
  {
   "cell_type": "code",
   "execution_count": 142,
   "metadata": {},
   "outputs": [],
   "source": [
    "df=pd.read_excel('G:\\DB.xlsx')"
   ]
  },
  {
   "cell_type": "code",
   "execution_count": 143,
   "metadata": {},
   "outputs": [
    {
     "data": {
      "text/html": [
       "<div>\n",
       "<style scoped>\n",
       "    .dataframe tbody tr th:only-of-type {\n",
       "        vertical-align: middle;\n",
       "    }\n",
       "\n",
       "    .dataframe tbody tr th {\n",
       "        vertical-align: top;\n",
       "    }\n",
       "\n",
       "    .dataframe thead th {\n",
       "        text-align: right;\n",
       "    }\n",
       "</style>\n",
       "<table border=\"1\" class=\"dataframe\">\n",
       "  <thead>\n",
       "    <tr style=\"text-align: right;\">\n",
       "      <th></th>\n",
       "      <th>Status</th>\n",
       "      <th>User</th>\n",
       "      <th>Created</th>\n",
       "      <th>Start</th>\n",
       "      <th>Worker_ID</th>\n",
       "      <th>Price</th>\n",
       "      <th>Order Detail</th>\n",
       "    </tr>\n",
       "  </thead>\n",
       "  <tbody>\n",
       "    <tr>\n",
       "      <th>0</th>\n",
       "      <td>PENDING</td>\n",
       "      <td>Ashghal Ahmad</td>\n",
       "      <td>2020-11-07 13:59:14</td>\n",
       "      <td>2020-12-31 19:30:00</td>\n",
       "      <td>977</td>\n",
       "      <td>3000</td>\n",
       "      <td>1</td>\n",
       "    </tr>\n",
       "    <tr>\n",
       "      <th>1</th>\n",
       "      <td>PENDING</td>\n",
       "      <td>Ahsan Ali</td>\n",
       "      <td>2020-11-24 15:48:44</td>\n",
       "      <td>2020-12-31 19:00:00</td>\n",
       "      <td>555432</td>\n",
       "      <td>4000</td>\n",
       "      <td>1</td>\n",
       "    </tr>\n",
       "    <tr>\n",
       "      <th>2</th>\n",
       "      <td>PENDING</td>\n",
       "      <td>Safia</td>\n",
       "      <td>2020-11-07 14:47:28</td>\n",
       "      <td>2020-12-31 15:30:00</td>\n",
       "      <td>397229</td>\n",
       "      <td>3000</td>\n",
       "      <td>1</td>\n",
       "    </tr>\n",
       "    <tr>\n",
       "      <th>3</th>\n",
       "      <td>PENDING</td>\n",
       "      <td>Irum Adnan</td>\n",
       "      <td>2020-11-17 16:54:28</td>\n",
       "      <td>2020-12-31 12:30:00</td>\n",
       "      <td>8651</td>\n",
       "      <td>2500</td>\n",
       "      <td>1</td>\n",
       "    </tr>\n",
       "    <tr>\n",
       "      <th>4</th>\n",
       "      <td>PENDING</td>\n",
       "      <td>Ahmad Khan</td>\n",
       "      <td>2020-11-12 18:54:49</td>\n",
       "      <td>2020-12-31 12:00:00</td>\n",
       "      <td>208535</td>\n",
       "      <td>2000</td>\n",
       "      <td>1</td>\n",
       "    </tr>\n",
       "  </tbody>\n",
       "</table>\n",
       "</div>"
      ],
      "text/plain": [
       "    Status           User             Created               Start  Worker_ID  \\\n",
       "0  PENDING  Ashghal Ahmad 2020-11-07 13:59:14 2020-12-31 19:30:00        977   \n",
       "1  PENDING      Ahsan Ali 2020-11-24 15:48:44 2020-12-31 19:00:00     555432   \n",
       "2  PENDING          Safia 2020-11-07 14:47:28 2020-12-31 15:30:00     397229   \n",
       "3  PENDING     Irum Adnan 2020-11-17 16:54:28 2020-12-31 12:30:00       8651   \n",
       "4  PENDING     Ahmad Khan 2020-11-12 18:54:49 2020-12-31 12:00:00     208535   \n",
       "\n",
       "   Price  Order Detail  \n",
       "0   3000             1  \n",
       "1   4000             1  \n",
       "2   3000             1  \n",
       "3   2500             1  \n",
       "4   2000             1  "
      ]
     },
     "execution_count": 143,
     "metadata": {},
     "output_type": "execute_result"
    }
   ],
   "source": [
    "df.head()"
   ]
  },
  {
   "cell_type": "markdown",
   "metadata": {},
   "source": [
    "#### You will create a visual which shows segregation of total orders by their status. You can use any library you want. "
   ]
  },
  {
   "cell_type": "code",
   "execution_count": 19,
   "metadata": {},
   "outputs": [],
   "source": [
    "Status_Seg=df.groupby('Status')['Order Detail'].sum().index\n",
    "Status_Count=df.groupby('Status')['Order Detail'].sum().values"
   ]
  },
  {
   "cell_type": "code",
   "execution_count": 24,
   "metadata": {},
   "outputs": [
    {
     "data": {
      "text/plain": [
       "<BarContainer object of 7 artists>"
      ]
     },
     "execution_count": 24,
     "metadata": {},
     "output_type": "execute_result"
    },
    {
     "data": {
      "image/png": "[encoded data removed]",
      "text/plain": [
       "<Figure size 720x360 with 1 Axes>"
      ]
     },
     "metadata": {
      "needs_background": "light"
     },
     "output_type": "display_data"
    }
   ],
   "source": [
    "plt.figure(figsize=(10,5))\n",
    "plt.bar(Status_Seg,Status_Count)"
   ]
  },
  {
   "cell_type": "markdown",
   "metadata": {},
   "source": [
    "#### Q3: You need to identify the Workers who didn’t get orders and export their ID’s in excel file. Do not do it manually. "
   ]
  },
  {
   "cell_type": "code",
   "execution_count": 36,
   "metadata": {},
   "outputs": [],
   "source": [
    "orders=pd.read_excel('G:\\DB.xlsx',sheet_name='Order')\n",
    "workers=pd.read_excel('G:\\DB.xlsx',sheet_name='Worker')"
   ]
  },
  {
   "cell_type": "code",
   "execution_count": 41,
   "metadata": {},
   "outputs": [
    {
     "data": {
      "text/html": [
       "<div>\n",
       "<style scoped>\n",
       "    .dataframe tbody tr th:only-of-type {\n",
       "        vertical-align: middle;\n",
       "    }\n",
       "\n",
       "    .dataframe tbody tr th {\n",
       "        vertical-align: top;\n",
       "    }\n",
       "\n",
       "    .dataframe thead th {\n",
       "        text-align: right;\n",
       "    }\n",
       "</style>\n",
       "<table border=\"1\" class=\"dataframe\">\n",
       "  <thead>\n",
       "    <tr style=\"text-align: right;\">\n",
       "      <th></th>\n",
       "      <th>Status</th>\n",
       "      <th>User</th>\n",
       "      <th>Created</th>\n",
       "      <th>Start</th>\n",
       "      <th>Worker_ID</th>\n",
       "      <th>Price</th>\n",
       "      <th>Order Detail</th>\n",
       "    </tr>\n",
       "  </thead>\n",
       "  <tbody>\n",
       "    <tr>\n",
       "      <th>0</th>\n",
       "      <td>PENDING</td>\n",
       "      <td>Ashghal Ahmad</td>\n",
       "      <td>2020-11-07 13:59:14</td>\n",
       "      <td>2020-12-31 19:30:00</td>\n",
       "      <td>977</td>\n",
       "      <td>3000</td>\n",
       "      <td>1</td>\n",
       "    </tr>\n",
       "    <tr>\n",
       "      <th>1</th>\n",
       "      <td>PENDING</td>\n",
       "      <td>Ahsan Ali</td>\n",
       "      <td>2020-11-24 15:48:44</td>\n",
       "      <td>2020-12-31 19:00:00</td>\n",
       "      <td>555432</td>\n",
       "      <td>4000</td>\n",
       "      <td>1</td>\n",
       "    </tr>\n",
       "    <tr>\n",
       "      <th>2</th>\n",
       "      <td>PENDING</td>\n",
       "      <td>Safia</td>\n",
       "      <td>2020-11-07 14:47:28</td>\n",
       "      <td>2020-12-31 15:30:00</td>\n",
       "      <td>397229</td>\n",
       "      <td>3000</td>\n",
       "      <td>1</td>\n",
       "    </tr>\n",
       "    <tr>\n",
       "      <th>3</th>\n",
       "      <td>PENDING</td>\n",
       "      <td>Irum Adnan</td>\n",
       "      <td>2020-11-17 16:54:28</td>\n",
       "      <td>2020-12-31 12:30:00</td>\n",
       "      <td>8651</td>\n",
       "      <td>2500</td>\n",
       "      <td>1</td>\n",
       "    </tr>\n",
       "    <tr>\n",
       "      <th>4</th>\n",
       "      <td>PENDING</td>\n",
       "      <td>Ahmad Khan</td>\n",
       "      <td>2020-11-12 18:54:49</td>\n",
       "      <td>2020-12-31 12:00:00</td>\n",
       "      <td>208535</td>\n",
       "      <td>2000</td>\n",
       "      <td>1</td>\n",
       "    </tr>\n",
       "  </tbody>\n",
       "</table>\n",
       "</div>"
      ],
      "text/plain": [
       "    Status           User             Created               Start  Worker_ID  \\\n",
       "0  PENDING  Ashghal Ahmad 2020-11-07 13:59:14 2020-12-31 19:30:00        977   \n",
       "1  PENDING      Ahsan Ali 2020-11-24 15:48:44 2020-12-31 19:00:00     555432   \n",
       "2  PENDING          Safia 2020-11-07 14:47:28 2020-12-31 15:30:00     397229   \n",
       "3  PENDING     Irum Adnan 2020-11-17 16:54:28 2020-12-31 12:30:00       8651   \n",
       "4  PENDING     Ahmad Khan 2020-11-12 18:54:49 2020-12-31 12:00:00     208535   \n",
       "\n",
       "   Price  Order Detail  \n",
       "0   3000             1  \n",
       "1   4000             1  \n",
       "2   3000             1  \n",
       "3   2500             1  \n",
       "4   2000             1  "
      ]
     },
     "execution_count": 41,
     "metadata": {},
     "output_type": "execute_result"
    }
   ],
   "source": [
    "orders.head()"
   ]
  },
  {
   "cell_type": "code",
   "execution_count": 42,
   "metadata": {},
   "outputs": [
    {
     "data": {
      "text/html": [
       "<div>\n",
       "<style scoped>\n",
       "    .dataframe tbody tr th:only-of-type {\n",
       "        vertical-align: middle;\n",
       "    }\n",
       "\n",
       "    .dataframe tbody tr th {\n",
       "        vertical-align: top;\n",
       "    }\n",
       "\n",
       "    .dataframe thead th {\n",
       "        text-align: right;\n",
       "    }\n",
       "</style>\n",
       "<table border=\"1\" class=\"dataframe\">\n",
       "  <thead>\n",
       "    <tr style=\"text-align: right;\">\n",
       "      <th></th>\n",
       "      <th>ID</th>\n",
       "    </tr>\n",
       "  </thead>\n",
       "  <tbody>\n",
       "    <tr>\n",
       "      <th>0</th>\n",
       "      <td>121</td>\n",
       "    </tr>\n",
       "    <tr>\n",
       "      <th>1</th>\n",
       "      <td>123</td>\n",
       "    </tr>\n",
       "    <tr>\n",
       "      <th>2</th>\n",
       "      <td>132</td>\n",
       "    </tr>\n",
       "    <tr>\n",
       "      <th>3</th>\n",
       "      <td>139</td>\n",
       "    </tr>\n",
       "    <tr>\n",
       "      <th>4</th>\n",
       "      <td>166</td>\n",
       "    </tr>\n",
       "  </tbody>\n",
       "</table>\n",
       "</div>"
      ],
      "text/plain": [
       "    ID\n",
       "0  121\n",
       "1  123\n",
       "2  132\n",
       "3  139\n",
       "4  166"
      ]
     },
     "execution_count": 42,
     "metadata": {},
     "output_type": "execute_result"
    }
   ],
   "source": [
    "workers.head()"
   ]
  },
  {
   "cell_type": "code",
   "execution_count": 43,
   "metadata": {},
   "outputs": [],
   "source": [
    "fully_df=orders.join(workers,how='outer')"
   ]
  },
  {
   "cell_type": "code",
   "execution_count": 44,
   "metadata": {},
   "outputs": [
    {
     "data": {
      "text/html": [
       "<div>\n",
       "<style scoped>\n",
       "    .dataframe tbody tr th:only-of-type {\n",
       "        vertical-align: middle;\n",
       "    }\n",
       "\n",
       "    .dataframe tbody tr th {\n",
       "        vertical-align: top;\n",
       "    }\n",
       "\n",
       "    .dataframe thead th {\n",
       "        text-align: right;\n",
       "    }\n",
       "</style>\n",
       "<table border=\"1\" class=\"dataframe\">\n",
       "  <thead>\n",
       "    <tr style=\"text-align: right;\">\n",
       "      <th></th>\n",
       "      <th>Status</th>\n",
       "      <th>User</th>\n",
       "      <th>Created</th>\n",
       "      <th>Start</th>\n",
       "      <th>Worker_ID</th>\n",
       "      <th>Price</th>\n",
       "      <th>Order Detail</th>\n",
       "      <th>ID</th>\n",
       "    </tr>\n",
       "  </thead>\n",
       "  <tbody>\n",
       "    <tr>\n",
       "      <th>0</th>\n",
       "      <td>PENDING</td>\n",
       "      <td>Ashghal Ahmad</td>\n",
       "      <td>2020-11-07 13:59:14</td>\n",
       "      <td>2020-12-31 19:30:00</td>\n",
       "      <td>977</td>\n",
       "      <td>3000</td>\n",
       "      <td>1</td>\n",
       "      <td>121.0</td>\n",
       "    </tr>\n",
       "    <tr>\n",
       "      <th>1</th>\n",
       "      <td>PENDING</td>\n",
       "      <td>Ahsan Ali</td>\n",
       "      <td>2020-11-24 15:48:44</td>\n",
       "      <td>2020-12-31 19:00:00</td>\n",
       "      <td>555432</td>\n",
       "      <td>4000</td>\n",
       "      <td>1</td>\n",
       "      <td>123.0</td>\n",
       "    </tr>\n",
       "    <tr>\n",
       "      <th>2</th>\n",
       "      <td>PENDING</td>\n",
       "      <td>Safia</td>\n",
       "      <td>2020-11-07 14:47:28</td>\n",
       "      <td>2020-12-31 15:30:00</td>\n",
       "      <td>397229</td>\n",
       "      <td>3000</td>\n",
       "      <td>1</td>\n",
       "      <td>132.0</td>\n",
       "    </tr>\n",
       "    <tr>\n",
       "      <th>3</th>\n",
       "      <td>PENDING</td>\n",
       "      <td>Irum Adnan</td>\n",
       "      <td>2020-11-17 16:54:28</td>\n",
       "      <td>2020-12-31 12:30:00</td>\n",
       "      <td>8651</td>\n",
       "      <td>2500</td>\n",
       "      <td>1</td>\n",
       "      <td>139.0</td>\n",
       "    </tr>\n",
       "    <tr>\n",
       "      <th>4</th>\n",
       "      <td>PENDING</td>\n",
       "      <td>Ahmad Khan</td>\n",
       "      <td>2020-11-12 18:54:49</td>\n",
       "      <td>2020-12-31 12:00:00</td>\n",
       "      <td>208535</td>\n",
       "      <td>2000</td>\n",
       "      <td>1</td>\n",
       "      <td>166.0</td>\n",
       "    </tr>\n",
       "  </tbody>\n",
       "</table>\n",
       "</div>"
      ],
      "text/plain": [
       "    Status           User             Created               Start  Worker_ID  \\\n",
       "0  PENDING  Ashghal Ahmad 2020-11-07 13:59:14 2020-12-31 19:30:00        977   \n",
       "1  PENDING      Ahsan Ali 2020-11-24 15:48:44 2020-12-31 19:00:00     555432   \n",
       "2  PENDING          Safia 2020-11-07 14:47:28 2020-12-31 15:30:00     397229   \n",
       "3  PENDING     Irum Adnan 2020-11-17 16:54:28 2020-12-31 12:30:00       8651   \n",
       "4  PENDING     Ahmad Khan 2020-11-12 18:54:49 2020-12-31 12:00:00     208535   \n",
       "\n",
       "   Price  Order Detail     ID  \n",
       "0   3000             1  121.0  \n",
       "1   4000             1  123.0  \n",
       "2   3000             1  132.0  \n",
       "3   2500             1  139.0  \n",
       "4   2000             1  166.0  "
      ]
     },
     "execution_count": 44,
     "metadata": {},
     "output_type": "execute_result"
    }
   ],
   "source": [
    "fully_df.head()"
   ]
  },
  {
   "cell_type": "markdown",
   "metadata": {},
   "source": [
    "### Register Workder who did't get Orders"
   ]
  },
  {
   "cell_type": "code",
   "execution_count": 115,
   "metadata": {},
   "outputs": [],
   "source": [
    "fully_df['RW_NOT_GETORDER']=pd.Series(fully_df[fully_df['Status']=='NO_SHOW'].ID.dropna().values)"
   ]
  },
  {
   "cell_type": "code",
   "execution_count": 120,
   "metadata": {},
   "outputs": [
    {
     "data": {
      "text/plain": [
       "0        1822.0\n",
       "1        1894.0\n",
       "2        2075.0\n",
       "3        2119.0\n",
       "4        2383.0\n",
       "         ...   \n",
       "501    624760.0\n",
       "502    625838.0\n",
       "503    628249.0\n",
       "504    631627.0\n",
       "505    639216.0\n",
       "Name: RW_NOT_GETORDER, Length: 506, dtype: float64"
      ]
     },
     "execution_count": 120,
     "metadata": {},
     "output_type": "execute_result"
    }
   ],
   "source": [
    "fully_df['RW_NOT_GETORDER'].dropna()"
   ]
  },
  {
   "cell_type": "markdown",
   "metadata": {},
   "source": [
    "### Non-Register Workder who did't get Orders"
   ]
  },
  {
   "cell_type": "code",
   "execution_count": 74,
   "metadata": {},
   "outputs": [
    {
     "data": {
      "text/html": [
       "<div>\n",
       "<style scoped>\n",
       "    .dataframe tbody tr th:only-of-type {\n",
       "        vertical-align: middle;\n",
       "    }\n",
       "\n",
       "    .dataframe tbody tr th {\n",
       "        vertical-align: top;\n",
       "    }\n",
       "\n",
       "    .dataframe thead th {\n",
       "        text-align: right;\n",
       "    }\n",
       "</style>\n",
       "<table border=\"1\" class=\"dataframe\">\n",
       "  <thead>\n",
       "    <tr style=\"text-align: right;\">\n",
       "      <th></th>\n",
       "      <th>Status</th>\n",
       "      <th>User</th>\n",
       "      <th>Created</th>\n",
       "      <th>Start</th>\n",
       "      <th>Worker_ID</th>\n",
       "      <th>Price</th>\n",
       "      <th>Order Detail</th>\n",
       "      <th>ID</th>\n",
       "      <th>Register Workers</th>\n",
       "      <th>RW_NOT_GETORDER</th>\n",
       "    </tr>\n",
       "  </thead>\n",
       "  <tbody>\n",
       "    <tr>\n",
       "      <th>0</th>\n",
       "      <td>PENDING</td>\n",
       "      <td>Ashghal Ahmad</td>\n",
       "      <td>2020-11-07 13:59:14</td>\n",
       "      <td>2020-12-31 19:30:00</td>\n",
       "      <td>977</td>\n",
       "      <td>3000</td>\n",
       "      <td>1</td>\n",
       "      <td>121.0</td>\n",
       "      <td>NaN</td>\n",
       "      <td>1822.0</td>\n",
       "    </tr>\n",
       "    <tr>\n",
       "      <th>1</th>\n",
       "      <td>PENDING</td>\n",
       "      <td>Ahsan Ali</td>\n",
       "      <td>2020-11-24 15:48:44</td>\n",
       "      <td>2020-12-31 19:00:00</td>\n",
       "      <td>555432</td>\n",
       "      <td>4000</td>\n",
       "      <td>1</td>\n",
       "      <td>123.0</td>\n",
       "      <td>NaN</td>\n",
       "      <td>1894.0</td>\n",
       "    </tr>\n",
       "    <tr>\n",
       "      <th>2</th>\n",
       "      <td>PENDING</td>\n",
       "      <td>Safia</td>\n",
       "      <td>2020-11-07 14:47:28</td>\n",
       "      <td>2020-12-31 15:30:00</td>\n",
       "      <td>397229</td>\n",
       "      <td>3000</td>\n",
       "      <td>1</td>\n",
       "      <td>132.0</td>\n",
       "      <td>NaN</td>\n",
       "      <td>2075.0</td>\n",
       "    </tr>\n",
       "    <tr>\n",
       "      <th>3</th>\n",
       "      <td>PENDING</td>\n",
       "      <td>Irum Adnan</td>\n",
       "      <td>2020-11-17 16:54:28</td>\n",
       "      <td>2020-12-31 12:30:00</td>\n",
       "      <td>8651</td>\n",
       "      <td>2500</td>\n",
       "      <td>1</td>\n",
       "      <td>139.0</td>\n",
       "      <td>NaN</td>\n",
       "      <td>2119.0</td>\n",
       "    </tr>\n",
       "    <tr>\n",
       "      <th>4</th>\n",
       "      <td>PENDING</td>\n",
       "      <td>Ahmad Khan</td>\n",
       "      <td>2020-11-12 18:54:49</td>\n",
       "      <td>2020-12-31 12:00:00</td>\n",
       "      <td>208535</td>\n",
       "      <td>2000</td>\n",
       "      <td>1</td>\n",
       "      <td>166.0</td>\n",
       "      <td>NaN</td>\n",
       "      <td>2383.0</td>\n",
       "    </tr>\n",
       "  </tbody>\n",
       "</table>\n",
       "</div>"
      ],
      "text/plain": [
       "    Status           User             Created               Start  Worker_ID  \\\n",
       "0  PENDING  Ashghal Ahmad 2020-11-07 13:59:14 2020-12-31 19:30:00        977   \n",
       "1  PENDING      Ahsan Ali 2020-11-24 15:48:44 2020-12-31 19:00:00     555432   \n",
       "2  PENDING          Safia 2020-11-07 14:47:28 2020-12-31 15:30:00     397229   \n",
       "3  PENDING     Irum Adnan 2020-11-17 16:54:28 2020-12-31 12:30:00       8651   \n",
       "4  PENDING     Ahmad Khan 2020-11-12 18:54:49 2020-12-31 12:00:00     208535   \n",
       "\n",
       "   Price  Order Detail     ID  Register Workers  RW_NOT_GETORDER  \n",
       "0   3000             1  121.0               NaN           1822.0  \n",
       "1   4000             1  123.0               NaN           1894.0  \n",
       "2   3000             1  132.0               NaN           2075.0  \n",
       "3   2500             1  139.0               NaN           2119.0  \n",
       "4   2000             1  166.0               NaN           2383.0  "
      ]
     },
     "execution_count": 74,
     "metadata": {},
     "output_type": "execute_result"
    }
   ],
   "source": [
    "fully_df.head()"
   ]
  },
  {
   "cell_type": "code",
   "execution_count": 105,
   "metadata": {},
   "outputs": [],
   "source": [
    "fully_df['NRW_NOT_GETORDER']=fully_df[fully_df['Status']=='NO_SHOW'].Worker_ID.dropna()"
   ]
  },
  {
   "cell_type": "code",
   "execution_count": 106,
   "metadata": {},
   "outputs": [
    {
     "data": {
      "text/plain": [
       "0             NaN\n",
       "1             NaN\n",
       "2             NaN\n",
       "3             NaN\n",
       "4             NaN\n",
       "           ...   \n",
       "39993         NaN\n",
       "39994         NaN\n",
       "39995    551191.0\n",
       "39996         NaN\n",
       "39997         NaN\n",
       "Name: NRW_NOT_GETORDER, Length: 39998, dtype: float64"
      ]
     },
     "execution_count": 106,
     "metadata": {},
     "output_type": "execute_result"
    }
   ],
   "source": [
    "fully_df['NRW_NOT_GETORDER']"
   ]
  },
  {
   "cell_type": "code",
   "execution_count": 91,
   "metadata": {},
   "outputs": [
    {
     "data": {
      "text/html": [
       "<div>\n",
       "<style scoped>\n",
       "    .dataframe tbody tr th:only-of-type {\n",
       "        vertical-align: middle;\n",
       "    }\n",
       "\n",
       "    .dataframe tbody tr th {\n",
       "        vertical-align: top;\n",
       "    }\n",
       "\n",
       "    .dataframe thead th {\n",
       "        text-align: right;\n",
       "    }\n",
       "</style>\n",
       "<table border=\"1\" class=\"dataframe\">\n",
       "  <thead>\n",
       "    <tr style=\"text-align: right;\">\n",
       "      <th></th>\n",
       "      <th>Status</th>\n",
       "      <th>User</th>\n",
       "      <th>Created</th>\n",
       "      <th>Start</th>\n",
       "      <th>Worker_ID</th>\n",
       "      <th>Price</th>\n",
       "      <th>Order Detail</th>\n",
       "      <th>ID</th>\n",
       "      <th>Register Workers</th>\n",
       "      <th>RW_NOT_GETORDER</th>\n",
       "      <th>NRW_NOT_GETORDER</th>\n",
       "    </tr>\n",
       "  </thead>\n",
       "  <tbody>\n",
       "    <tr>\n",
       "      <th>0</th>\n",
       "      <td>PENDING</td>\n",
       "      <td>Ashghal Ahmad</td>\n",
       "      <td>2020-11-07 13:59:14</td>\n",
       "      <td>2020-12-31 19:30:00</td>\n",
       "      <td>977</td>\n",
       "      <td>3000</td>\n",
       "      <td>1</td>\n",
       "      <td>121.0</td>\n",
       "      <td>NaN</td>\n",
       "      <td>1822.0</td>\n",
       "      <td>NaN</td>\n",
       "    </tr>\n",
       "    <tr>\n",
       "      <th>1</th>\n",
       "      <td>PENDING</td>\n",
       "      <td>Ahsan Ali</td>\n",
       "      <td>2020-11-24 15:48:44</td>\n",
       "      <td>2020-12-31 19:00:00</td>\n",
       "      <td>555432</td>\n",
       "      <td>4000</td>\n",
       "      <td>1</td>\n",
       "      <td>123.0</td>\n",
       "      <td>NaN</td>\n",
       "      <td>1894.0</td>\n",
       "      <td>NaN</td>\n",
       "    </tr>\n",
       "    <tr>\n",
       "      <th>2</th>\n",
       "      <td>PENDING</td>\n",
       "      <td>Safia</td>\n",
       "      <td>2020-11-07 14:47:28</td>\n",
       "      <td>2020-12-31 15:30:00</td>\n",
       "      <td>397229</td>\n",
       "      <td>3000</td>\n",
       "      <td>1</td>\n",
       "      <td>132.0</td>\n",
       "      <td>NaN</td>\n",
       "      <td>2075.0</td>\n",
       "      <td>NaN</td>\n",
       "    </tr>\n",
       "    <tr>\n",
       "      <th>3</th>\n",
       "      <td>PENDING</td>\n",
       "      <td>Irum Adnan</td>\n",
       "      <td>2020-11-17 16:54:28</td>\n",
       "      <td>2020-12-31 12:30:00</td>\n",
       "      <td>8651</td>\n",
       "      <td>2500</td>\n",
       "      <td>1</td>\n",
       "      <td>139.0</td>\n",
       "      <td>NaN</td>\n",
       "      <td>2119.0</td>\n",
       "      <td>NaN</td>\n",
       "    </tr>\n",
       "    <tr>\n",
       "      <th>4</th>\n",
       "      <td>PENDING</td>\n",
       "      <td>Ahmad Khan</td>\n",
       "      <td>2020-11-12 18:54:49</td>\n",
       "      <td>2020-12-31 12:00:00</td>\n",
       "      <td>208535</td>\n",
       "      <td>2000</td>\n",
       "      <td>1</td>\n",
       "      <td>166.0</td>\n",
       "      <td>NaN</td>\n",
       "      <td>2383.0</td>\n",
       "      <td>NaN</td>\n",
       "    </tr>\n",
       "  </tbody>\n",
       "</table>\n",
       "</div>"
      ],
      "text/plain": [
       "    Status           User             Created               Start  Worker_ID  \\\n",
       "0  PENDING  Ashghal Ahmad 2020-11-07 13:59:14 2020-12-31 19:30:00        977   \n",
       "1  PENDING      Ahsan Ali 2020-11-24 15:48:44 2020-12-31 19:00:00     555432   \n",
       "2  PENDING          Safia 2020-11-07 14:47:28 2020-12-31 15:30:00     397229   \n",
       "3  PENDING     Irum Adnan 2020-11-17 16:54:28 2020-12-31 12:30:00       8651   \n",
       "4  PENDING     Ahmad Khan 2020-11-12 18:54:49 2020-12-31 12:00:00     208535   \n",
       "\n",
       "   Price  Order Detail     ID  Register Workers  RW_NOT_GETORDER  \\\n",
       "0   3000             1  121.0               NaN           1822.0   \n",
       "1   4000             1  123.0               NaN           1894.0   \n",
       "2   3000             1  132.0               NaN           2075.0   \n",
       "3   2500             1  139.0               NaN           2119.0   \n",
       "4   2000             1  166.0               NaN           2383.0   \n",
       "\n",
       "   NRW_NOT_GETORDER  \n",
       "0               NaN  \n",
       "1               NaN  \n",
       "2               NaN  \n",
       "3               NaN  \n",
       "4               NaN  "
      ]
     },
     "execution_count": 91,
     "metadata": {},
     "output_type": "execute_result"
    }
   ],
   "source": [
    "fully_df.head()"
   ]
  },
  {
   "cell_type": "code",
   "execution_count": 98,
   "metadata": {},
   "outputs": [],
   "source": [
    "WORKERS_NO_ORDERS=pd.DataFrame(data=fully_df['NRW_NOT_GETORDER']).dropna()"
   ]
  },
  {
   "cell_type": "code",
   "execution_count": 129,
   "metadata": {},
   "outputs": [],
   "source": [
    "WORKERS_NO_ORDERS=pd.concat([WORKERS_NO_ORDERS,fully_df['RW_NOT_GETORDER'].dropna()],axis=1)"
   ]
  },
  {
   "cell_type": "code",
   "execution_count": 132,
   "metadata": {},
   "outputs": [],
   "source": [
    "WORKERS_NO_ORDERS.to_excel('G:\\WORKERS_NO_ORDER.xlsx',index=False)"
   ]
  },
  {
   "cell_type": "markdown",
   "metadata": {},
   "source": [
    "### You will create a single visual which shows a bar chart of “Total Orders” placed on each date and their line chart of “Last 7 Days Rolling Average”. Visuals should dynamically show the last 14 days of the data means if I dump more data into the table it dynamically picks the last 14 days. P.S. Line should not start with the ascent because the last 14th day has previous data to calculate its last 7 day rolling average.  "
   ]
  },
  {
   "cell_type": "code",
   "execution_count": 144,
   "metadata": {},
   "outputs": [
    {
     "data": {
      "text/html": [
       "<div>\n",
       "<style scoped>\n",
       "    .dataframe tbody tr th:only-of-type {\n",
       "        vertical-align: middle;\n",
       "    }\n",
       "\n",
       "    .dataframe tbody tr th {\n",
       "        vertical-align: top;\n",
       "    }\n",
       "\n",
       "    .dataframe thead th {\n",
       "        text-align: right;\n",
       "    }\n",
       "</style>\n",
       "<table border=\"1\" class=\"dataframe\">\n",
       "  <thead>\n",
       "    <tr style=\"text-align: right;\">\n",
       "      <th></th>\n",
       "      <th>Status</th>\n",
       "      <th>User</th>\n",
       "      <th>Created</th>\n",
       "      <th>Start</th>\n",
       "      <th>Worker_ID</th>\n",
       "      <th>Price</th>\n",
       "      <th>Order Detail</th>\n",
       "    </tr>\n",
       "  </thead>\n",
       "  <tbody>\n",
       "    <tr>\n",
       "      <th>0</th>\n",
       "      <td>PENDING</td>\n",
       "      <td>Ashghal Ahmad</td>\n",
       "      <td>2020-11-07 13:59:14</td>\n",
       "      <td>2020-12-31 19:30:00</td>\n",
       "      <td>977</td>\n",
       "      <td>3000</td>\n",
       "      <td>1</td>\n",
       "    </tr>\n",
       "    <tr>\n",
       "      <th>1</th>\n",
       "      <td>PENDING</td>\n",
       "      <td>Ahsan Ali</td>\n",
       "      <td>2020-11-24 15:48:44</td>\n",
       "      <td>2020-12-31 19:00:00</td>\n",
       "      <td>555432</td>\n",
       "      <td>4000</td>\n",
       "      <td>1</td>\n",
       "    </tr>\n",
       "    <tr>\n",
       "      <th>2</th>\n",
       "      <td>PENDING</td>\n",
       "      <td>Safia</td>\n",
       "      <td>2020-11-07 14:47:28</td>\n",
       "      <td>2020-12-31 15:30:00</td>\n",
       "      <td>397229</td>\n",
       "      <td>3000</td>\n",
       "      <td>1</td>\n",
       "    </tr>\n",
       "    <tr>\n",
       "      <th>3</th>\n",
       "      <td>PENDING</td>\n",
       "      <td>Irum Adnan</td>\n",
       "      <td>2020-11-17 16:54:28</td>\n",
       "      <td>2020-12-31 12:30:00</td>\n",
       "      <td>8651</td>\n",
       "      <td>2500</td>\n",
       "      <td>1</td>\n",
       "    </tr>\n",
       "    <tr>\n",
       "      <th>4</th>\n",
       "      <td>PENDING</td>\n",
       "      <td>Ahmad Khan</td>\n",
       "      <td>2020-11-12 18:54:49</td>\n",
       "      <td>2020-12-31 12:00:00</td>\n",
       "      <td>208535</td>\n",
       "      <td>2000</td>\n",
       "      <td>1</td>\n",
       "    </tr>\n",
       "  </tbody>\n",
       "</table>\n",
       "</div>"
      ],
      "text/plain": [
       "    Status           User             Created               Start  Worker_ID  \\\n",
       "0  PENDING  Ashghal Ahmad 2020-11-07 13:59:14 2020-12-31 19:30:00        977   \n",
       "1  PENDING      Ahsan Ali 2020-11-24 15:48:44 2020-12-31 19:00:00     555432   \n",
       "2  PENDING          Safia 2020-11-07 14:47:28 2020-12-31 15:30:00     397229   \n",
       "3  PENDING     Irum Adnan 2020-11-17 16:54:28 2020-12-31 12:30:00       8651   \n",
       "4  PENDING     Ahmad Khan 2020-11-12 18:54:49 2020-12-31 12:00:00     208535   \n",
       "\n",
       "   Price  Order Detail  \n",
       "0   3000             1  \n",
       "1   4000             1  \n",
       "2   3000             1  \n",
       "3   2500             1  \n",
       "4   2000             1  "
      ]
     },
     "execution_count": 144,
     "metadata": {},
     "output_type": "execute_result"
    }
   ],
   "source": [
    "df.head()"
   ]
  },
  {
   "cell_type": "code",
   "execution_count": 418,
   "metadata": {},
   "outputs": [
    {
     "name": "stdout",
     "output_type": "stream",
     "text": [
      "Enter Last Days Values: 19\n"
     ]
    },
    {
     "data": {
      "text/plain": [
       "[<matplotlib.lines.Line2D at 0x2b268f534f0>]"
      ]
     },
     "execution_count": 418,
     "metadata": {},
     "output_type": "execute_result"
    },
    {
     "data": {
      "image/png": "[encoded data removed]",
      "text/plain": [
       "<Figure size 720x360 with 1 Axes>"
      ]
     },
     "metadata": {
      "needs_background": "light"
     },
     "output_type": "display_data"
    }
   ],
   "source": [
    "plt.figure(figsize=(10,5))\n",
    "\n",
    "ld_values=int(input('Enter Last Days Values: '))\n",
    "\n",
    "#Total Ordered Last Days\n",
    "date_rel=df.groupby(pd.to_datetime(df['Start'].dt.date[df['Start'].dt.month>df['Start'].dt.month.max()-1]).dt.date[df['Start'].dt.day>=df['Start'].dt.day.max()-ld_values]).Status.count().sort_values().index\n",
    "values=date=df.groupby(pd.to_datetime(df['Start'].dt.date[df['Start'].dt.month>df['Start'].dt.month.max()-1]).dt.date[df['Start'].dt.day>=df['Start'].dt.day.max()-ld_values]).Status.count().sort_values().values\n",
    "plt.bar(sorted(date_rel,reverse=True),values)\n",
    "\n",
    "#Average Ordered Last Days\n",
    "ds=df.groupby(pd.to_datetime(df['Start'].dt.date[df['Start'].dt.month>df['Start'].dt.month.max()-1]).dt.date[df['Start'].dt.day>=df['Start'].dt.day.max()-ld_values]).Status.count().values\n",
    "avg=[val for val in (ds[0:ds.size-1]+ds[1:])/2]\n",
    "avg.insert(0,1)\n",
    "plt.plot(pd.to_datetime(df['Start'].dt.date[df['Start'].dt.month>df['Start'].dt.month.max()-1]).dt.date[df['Start'].dt.day>=df['Start'].dt.day.max()-ld_values].unique(),sorted(avg),color='y')"
   ]
  },
  {
   "cell_type": "code",
   "execution_count": 367,
   "metadata": {},
   "outputs": [],
   "source": []
  },
  {
   "cell_type": "code",
   "execution_count": 378,
   "metadata": {},
   "outputs": [],
   "source": []
  },
  {
   "cell_type": "code",
   "execution_count": null,
   "metadata": {},
   "outputs": [],
   "source": []
  },
  {
   "cell_type": "code",
   "execution_count": null,
   "metadata": {},
   "outputs": [],
   "source": []
  },
  {
   "cell_type": "code",
   "execution_count": null,
   "metadata": {},
   "outputs": [],
   "source": []
  },
  {
   "cell_type": "code",
   "execution_count": null,
   "metadata": {},
   "outputs": [],
   "source": []
  },
  {
   "cell_type": "code",
   "execution_count": null,
   "metadata": {},
   "outputs": [],
   "source": []
  }
 ],
 "metadata": {
  "kernelspec": {
   "display_name": "Python 3",
   "language": "python",
   "name": "python3"
  },
  "language_info": {
   "codemirror_mode": {
    "name": "ipython",
    "version": 3
   },
   "file_extension": ".py",
   "mimetype": "text/x-python",
   "name": "python",
   "nbconvert_exporter": "python",
   "pygments_lexer": "ipython3",
   "version": "3.8.5"
  }
 },
 "nbformat": 4,
 "nbformat_minor": 4
}
