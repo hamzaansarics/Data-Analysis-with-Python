{
 "cells": [
  {
   "cell_type": "code",
   "execution_count": 1,
   "metadata": {},
   "outputs": [],
   "source": [
    "import pandas as pd"
   ]
  },
  {
   "cell_type": "code",
   "execution_count": 127,
   "metadata": {},
   "outputs": [],
   "source": [
    "df=pd.read_excel('Testing_Files1.xlsx')"
   ]
  },
  {
   "cell_type": "code",
   "execution_count": 128,
   "metadata": {},
   "outputs": [
    {
     "data": {
      "text/html": [
       "<div>\n",
       "<style scoped>\n",
       "    .dataframe tbody tr th:only-of-type {\n",
       "        vertical-align: middle;\n",
       "    }\n",
       "\n",
       "    .dataframe tbody tr th {\n",
       "        vertical-align: top;\n",
       "    }\n",
       "\n",
       "    .dataframe thead th {\n",
       "        text-align: right;\n",
       "    }\n",
       "</style>\n",
       "<table border=\"1\" class=\"dataframe\">\n",
       "  <thead>\n",
       "    <tr style=\"text-align: right;\">\n",
       "      <th></th>\n",
       "      <th>Response ID</th>\n",
       "      <th>Time Started</th>\n",
       "      <th>Date Submitted</th>\n",
       "      <th>Status</th>\n",
       "      <th>Language</th>\n",
       "      <th>Referer</th>\n",
       "      <th>SessionID</th>\n",
       "      <th>URL Variable: leader</th>\n",
       "      <th>URL Variable: lga1</th>\n",
       "      <th>URL Variable: lga2</th>\n",
       "      <th>Relationship to Leader</th>\n",
       "      <th>1: [url('lga1')]:To what degree has [url('leader')] followed up with you to ask for feedback and suggestions on their development goal of the following growth areas?</th>\n",
       "      <th>1: [url('lga2')]:To what degree has [url('leader')] followed up with you to ask for feedback and suggestions on their development goal of the following growth areas?</th>\n",
       "      <th>2: [url('lga1')]:To what degree has[url('leader')] improved on their goal of the following leadership growth areas?</th>\n",
       "      <th>2: [url('lga2')]:To what degree has[url('leader')] improved on their goal of the following leadership growth areas?</th>\n",
       "      <th>3: [url('lga1')]:Did [url('leader')] communicate their leadership growth areas to you?</th>\n",
       "      <th>3: [url('lga2')]:Did [url('leader')] communicate their leadership growth areas to you?</th>\n",
       "      <th>4: Did [url('leader')] change their overall leadership effectiveness (Do not consider environmental factors beyond their control)?</th>\n",
       "      <th>5: Has [url('leader')] shared their action plan with you?</th>\n",
       "      <th>6: Did [url('leader')] implement their action plan and make change visible to you?</th>\n",
       "      <th>7: What would you like to reinforce that [url('leader')] is doing well towards improving on their goals and action plan?</th>\n",
       "      <th>8: What suggestions do you have for [url('leader')] to do in the next few months?</th>\n",
       "      <th>9: What changes have you seen in [url('leader')]'s overall leadership effectiveness?</th>\n",
       "      <th>question_type</th>\n",
       "      <th>question_answer_options</th>\n",
       "      <th>question_answer_values</th>\n",
       "    </tr>\n",
       "  </thead>\n",
       "  <tbody>\n",
       "    <tr>\n",
       "      <th>0</th>\n",
       "      <td>61.0</td>\n",
       "      <td>2021-02-03 13:39:38</td>\n",
       "      <td>2021-01-15 06:32:54</td>\n",
       "      <td>Complete</td>\n",
       "      <td>English</td>\n",
       "      <td>https://app.alchemer.com/builder/test/id/6167046</td>\n",
       "      <td>1612377578_601aedea6af3b3.75786384</td>\n",
       "      <td>Adrian Chang</td>\n",
       "      <td>To communicate better</td>\n",
       "      <td>To delegate more</td>\n",
       "      <td>Peer</td>\n",
       "      <td>11.0</td>\n",
       "      <td>13.0</td>\n",
       "      <td>2.0</td>\n",
       "      <td>-1.0</td>\n",
       "      <td>13.0</td>\n",
       "      <td>11.0</td>\n",
       "      <td>0.0</td>\n",
       "      <td>100.0</td>\n",
       "      <td>-100.0</td>\n",
       "      <td>Majesty,' he began, 'for bringing these.</td>\n",
       "      <td>He trusts to you how the Dodo solemnly, rising...</td>\n",
       "      <td>I've fallen by.</td>\n",
       "      <td>lga_likert</td>\n",
       "      <td>None</td>\n",
       "      <td>10</td>\n",
       "    </tr>\n",
       "    <tr>\n",
       "      <th>1</th>\n",
       "      <td>62.0</td>\n",
       "      <td>2021-02-03 13:39:38</td>\n",
       "      <td>2021-01-30 12:06:44</td>\n",
       "      <td>Complete</td>\n",
       "      <td>English</td>\n",
       "      <td>https://app.alchemer.com/builder/test/id/6167046</td>\n",
       "      <td>1612377578_601aedead30622.68545015</td>\n",
       "      <td>Adrian Chang</td>\n",
       "      <td>To communicate better</td>\n",
       "      <td>To delegate more</td>\n",
       "      <td>Direct Report</td>\n",
       "      <td>14.0</td>\n",
       "      <td>12.0</td>\n",
       "      <td>3.0</td>\n",
       "      <td>-1.0</td>\n",
       "      <td>14.0</td>\n",
       "      <td>11.0</td>\n",
       "      <td>0.0</td>\n",
       "      <td>100.0</td>\n",
       "      <td>-100.0</td>\n",
       "      <td>So she began thinking over other children she ...</td>\n",
       "      <td>I BEG your pardon!' cried Alice hastily, afrai...</td>\n",
       "      <td>Lizard's slate-pencil, and the other paw, 'liv...</td>\n",
       "      <td>lga_likert</td>\n",
       "      <td>A Little</td>\n",
       "      <td>11</td>\n",
       "    </tr>\n",
       "    <tr>\n",
       "      <th>2</th>\n",
       "      <td>63.0</td>\n",
       "      <td>2021-02-03 13:39:39</td>\n",
       "      <td>2021-01-20 02:47:26</td>\n",
       "      <td>Complete</td>\n",
       "      <td>English</td>\n",
       "      <td>https://app.alchemer.com/builder/test/id/6167046</td>\n",
       "      <td>1612377579_601aedeb02ce24.16512220</td>\n",
       "      <td>Adrian Chang</td>\n",
       "      <td>To communicate better</td>\n",
       "      <td>To delegate more</td>\n",
       "      <td>Peer</td>\n",
       "      <td>12.0</td>\n",
       "      <td>13.0</td>\n",
       "      <td>-3.0</td>\n",
       "      <td>3.0</td>\n",
       "      <td>13.0</td>\n",
       "      <td>10.0</td>\n",
       "      <td>-2.0</td>\n",
       "      <td>100.0</td>\n",
       "      <td>-100.0</td>\n",
       "      <td>Alice opened the door with his nose, you know?...</td>\n",
       "      <td>I only wish they WOULD not remember the simple...</td>\n",
       "      <td>I could say if I shall have some fun now!' tho...</td>\n",
       "      <td>lga_likert</td>\n",
       "      <td>Some</td>\n",
       "      <td>12</td>\n",
       "    </tr>\n",
       "    <tr>\n",
       "      <th>3</th>\n",
       "      <td>64.0</td>\n",
       "      <td>2021-02-03 13:39:39</td>\n",
       "      <td>2021-02-03 07:27:19</td>\n",
       "      <td>Complete</td>\n",
       "      <td>English</td>\n",
       "      <td>https://app.alchemer.com/builder/test/id/6167046</td>\n",
       "      <td>1612377579_601aedeb1e5290.40568749</td>\n",
       "      <td>Adrian Chang</td>\n",
       "      <td>To communicate better</td>\n",
       "      <td>To delegate more</td>\n",
       "      <td>Other</td>\n",
       "      <td>10.0</td>\n",
       "      <td>10.0</td>\n",
       "      <td>-3.0</td>\n",
       "      <td>0.0</td>\n",
       "      <td>10.0</td>\n",
       "      <td>12.0</td>\n",
       "      <td>2.0</td>\n",
       "      <td>-100.0</td>\n",
       "      <td>-100.0</td>\n",
       "      <td>Duchess, digging her sharp little chin. 'I've ...</td>\n",
       "      <td>Now, if you want to be?' it asked. 'Oh, I'm no...</td>\n",
       "      <td>Arithmetic--Ambition, Distraction, Uglificatio...</td>\n",
       "      <td>lga_likert</td>\n",
       "      <td>Moderate</td>\n",
       "      <td>13</td>\n",
       "    </tr>\n",
       "    <tr>\n",
       "      <th>4</th>\n",
       "      <td>65.0</td>\n",
       "      <td>2021-02-03 13:39:39</td>\n",
       "      <td>2021-01-22 16:04:23</td>\n",
       "      <td>Complete</td>\n",
       "      <td>English</td>\n",
       "      <td>https://app.alchemer.com/builder/test/id/6167046</td>\n",
       "      <td>1612377579_601aedeb3710a7.50848605</td>\n",
       "      <td>Adrian Chang</td>\n",
       "      <td>To communicate better</td>\n",
       "      <td>To delegate more</td>\n",
       "      <td>Self</td>\n",
       "      <td>13.0</td>\n",
       "      <td>10.0</td>\n",
       "      <td>2.0</td>\n",
       "      <td>1.0</td>\n",
       "      <td>12.0</td>\n",
       "      <td>11.0</td>\n",
       "      <td>3.0</td>\n",
       "      <td>-100.0</td>\n",
       "      <td>100.0</td>\n",
       "      <td>I'll get into the open air. 'IF I don't like i...</td>\n",
       "      <td>King. Here one of the fact. 'I keep them to be...</td>\n",
       "      <td>Alice, so please your Majesty,' said Two, in a.</td>\n",
       "      <td>lga_likert</td>\n",
       "      <td>Frequently</td>\n",
       "      <td>14</td>\n",
       "    </tr>\n",
       "  </tbody>\n",
       "</table>\n",
       "</div>"
      ],
      "text/plain": [
       "   Response ID        Time Started      Date Submitted    Status Language  \\\n",
       "0         61.0 2021-02-03 13:39:38 2021-01-15 06:32:54  Complete  English   \n",
       "1         62.0 2021-02-03 13:39:38 2021-01-30 12:06:44  Complete  English   \n",
       "2         63.0 2021-02-03 13:39:39 2021-01-20 02:47:26  Complete  English   \n",
       "3         64.0 2021-02-03 13:39:39 2021-02-03 07:27:19  Complete  English   \n",
       "4         65.0 2021-02-03 13:39:39 2021-01-22 16:04:23  Complete  English   \n",
       "\n",
       "                                            Referer  \\\n",
       "0  https://app.alchemer.com/builder/test/id/6167046   \n",
       "1  https://app.alchemer.com/builder/test/id/6167046   \n",
       "2  https://app.alchemer.com/builder/test/id/6167046   \n",
       "3  https://app.alchemer.com/builder/test/id/6167046   \n",
       "4  https://app.alchemer.com/builder/test/id/6167046   \n",
       "\n",
       "                            SessionID URL Variable: leader  \\\n",
       "0  1612377578_601aedea6af3b3.75786384         Adrian Chang   \n",
       "1  1612377578_601aedead30622.68545015         Adrian Chang   \n",
       "2  1612377579_601aedeb02ce24.16512220         Adrian Chang   \n",
       "3  1612377579_601aedeb1e5290.40568749         Adrian Chang   \n",
       "4  1612377579_601aedeb3710a7.50848605         Adrian Chang   \n",
       "\n",
       "      URL Variable: lga1 URL Variable: lga2 Relationship to Leader  \\\n",
       "0  To communicate better   To delegate more                   Peer   \n",
       "1  To communicate better   To delegate more          Direct Report   \n",
       "2  To communicate better   To delegate more                   Peer   \n",
       "3  To communicate better   To delegate more                  Other   \n",
       "4  To communicate better   To delegate more                   Self   \n",
       "\n",
       "   1: [url('lga1')]:To what degree has [url('leader')] followed up with you to ask for feedback and suggestions on their development goal of the following growth areas?  \\\n",
       "0                                               11.0                                                                                                                       \n",
       "1                                               14.0                                                                                                                       \n",
       "2                                               12.0                                                                                                                       \n",
       "3                                               10.0                                                                                                                       \n",
       "4                                               13.0                                                                                                                       \n",
       "\n",
       "   1: [url('lga2')]:To what degree has [url('leader')] followed up with you to ask for feedback and suggestions on their development goal of the following growth areas?  \\\n",
       "0                                               13.0                                                                                                                       \n",
       "1                                               12.0                                                                                                                       \n",
       "2                                               13.0                                                                                                                       \n",
       "3                                               10.0                                                                                                                       \n",
       "4                                               10.0                                                                                                                       \n",
       "\n",
       "   2: [url('lga1')]:To what degree has[url('leader')] improved on their goal of the following leadership growth areas?  \\\n",
       "0                                                2.0                                                                     \n",
       "1                                                3.0                                                                     \n",
       "2                                               -3.0                                                                     \n",
       "3                                               -3.0                                                                     \n",
       "4                                                2.0                                                                     \n",
       "\n",
       "   2: [url('lga2')]:To what degree has[url('leader')] improved on their goal of the following leadership growth areas?  \\\n",
       "0                                               -1.0                                                                     \n",
       "1                                               -1.0                                                                     \n",
       "2                                                3.0                                                                     \n",
       "3                                                0.0                                                                     \n",
       "4                                                1.0                                                                     \n",
       "\n",
       "   3: [url('lga1')]:Did [url('leader')] communicate their leadership growth areas to you?  \\\n",
       "0                                               13.0                                        \n",
       "1                                               14.0                                        \n",
       "2                                               13.0                                        \n",
       "3                                               10.0                                        \n",
       "4                                               12.0                                        \n",
       "\n",
       "   3: [url('lga2')]:Did [url('leader')] communicate their leadership growth areas to you?  \\\n",
       "0                                               11.0                                        \n",
       "1                                               11.0                                        \n",
       "2                                               10.0                                        \n",
       "3                                               12.0                                        \n",
       "4                                               11.0                                        \n",
       "\n",
       "   4: Did [url('leader')] change their overall leadership effectiveness (Do not consider environmental factors beyond their control)?  \\\n",
       "0                                                0.0                                                                                    \n",
       "1                                                0.0                                                                                    \n",
       "2                                               -2.0                                                                                    \n",
       "3                                                2.0                                                                                    \n",
       "4                                                3.0                                                                                    \n",
       "\n",
       "   5: Has [url('leader')] shared their action plan with you?  \\\n",
       "0                                              100.0           \n",
       "1                                              100.0           \n",
       "2                                              100.0           \n",
       "3                                             -100.0           \n",
       "4                                             -100.0           \n",
       "\n",
       "   6: Did [url('leader')] implement their action plan and make change visible to you?  \\\n",
       "0                                             -100.0                                    \n",
       "1                                             -100.0                                    \n",
       "2                                             -100.0                                    \n",
       "3                                             -100.0                                    \n",
       "4                                              100.0                                    \n",
       "\n",
       "  7: What would you like to reinforce that [url('leader')] is doing well towards improving on their goals and action plan?  \\\n",
       "0           Majesty,' he began, 'for bringing these.                                                                         \n",
       "1  So she began thinking over other children she ...                                                                         \n",
       "2  Alice opened the door with his nose, you know?...                                                                         \n",
       "3  Duchess, digging her sharp little chin. 'I've ...                                                                         \n",
       "4  I'll get into the open air. 'IF I don't like i...                                                                         \n",
       "\n",
       "  8: What suggestions do you have for [url('leader')] to do in the next few months?  \\\n",
       "0  He trusts to you how the Dodo solemnly, rising...                                  \n",
       "1  I BEG your pardon!' cried Alice hastily, afrai...                                  \n",
       "2  I only wish they WOULD not remember the simple...                                  \n",
       "3  Now, if you want to be?' it asked. 'Oh, I'm no...                                  \n",
       "4  King. Here one of the fact. 'I keep them to be...                                  \n",
       "\n",
       "  9: What changes have you seen in [url('leader')]'s overall leadership effectiveness?  \\\n",
       "0                                    I've fallen by.                                     \n",
       "1  Lizard's slate-pencil, and the other paw, 'liv...                                     \n",
       "2  I could say if I shall have some fun now!' tho...                                     \n",
       "3  Arithmetic--Ambition, Distraction, Uglificatio...                                     \n",
       "4    Alice, so please your Majesty,' said Two, in a.                                     \n",
       "\n",
       "  question_type question_answer_options  question_answer_values  \n",
       "0    lga_likert                    None                      10  \n",
       "1    lga_likert                A Little                      11  \n",
       "2    lga_likert                    Some                      12  \n",
       "3    lga_likert                Moderate                      13  \n",
       "4    lga_likert              Frequently                      14  "
      ]
     },
     "execution_count": 128,
     "metadata": {},
     "output_type": "execute_result"
    }
   ],
   "source": [
    "df.head()"
   ]
  },
  {
   "cell_type": "code",
   "execution_count": 129,
   "metadata": {},
   "outputs": [],
   "source": [
    "pd.set_option('display.max_columns',40)"
   ]
  },
  {
   "cell_type": "code",
   "execution_count": 130,
   "metadata": {},
   "outputs": [
    {
     "data": {
      "text/html": [
       "<div>\n",
       "<style scoped>\n",
       "    .dataframe tbody tr th:only-of-type {\n",
       "        vertical-align: middle;\n",
       "    }\n",
       "\n",
       "    .dataframe tbody tr th {\n",
       "        vertical-align: top;\n",
       "    }\n",
       "\n",
       "    .dataframe thead th {\n",
       "        text-align: right;\n",
       "    }\n",
       "</style>\n",
       "<table border=\"1\" class=\"dataframe\">\n",
       "  <thead>\n",
       "    <tr style=\"text-align: right;\">\n",
       "      <th></th>\n",
       "      <th>Response ID</th>\n",
       "      <th>Time Started</th>\n",
       "      <th>Date Submitted</th>\n",
       "      <th>Status</th>\n",
       "      <th>Language</th>\n",
       "      <th>Referer</th>\n",
       "      <th>SessionID</th>\n",
       "      <th>URL Variable: leader</th>\n",
       "      <th>URL Variable: lga1</th>\n",
       "      <th>URL Variable: lga2</th>\n",
       "      <th>Relationship to Leader</th>\n",
       "      <th>1: [url('lga1')]:To what degree has [url('leader')] followed up with you to ask for feedback and suggestions on their development goal of the following growth areas?</th>\n",
       "      <th>1: [url('lga2')]:To what degree has [url('leader')] followed up with you to ask for feedback and suggestions on their development goal of the following growth areas?</th>\n",
       "      <th>2: [url('lga1')]:To what degree has[url('leader')] improved on their goal of the following leadership growth areas?</th>\n",
       "      <th>2: [url('lga2')]:To what degree has[url('leader')] improved on their goal of the following leadership growth areas?</th>\n",
       "      <th>3: [url('lga1')]:Did [url('leader')] communicate their leadership growth areas to you?</th>\n",
       "      <th>3: [url('lga2')]:Did [url('leader')] communicate their leadership growth areas to you?</th>\n",
       "      <th>4: Did [url('leader')] change their overall leadership effectiveness (Do not consider environmental factors beyond their control)?</th>\n",
       "      <th>5: Has [url('leader')] shared their action plan with you?</th>\n",
       "      <th>6: Did [url('leader')] implement their action plan and make change visible to you?</th>\n",
       "      <th>7: What would you like to reinforce that [url('leader')] is doing well towards improving on their goals and action plan?</th>\n",
       "      <th>8: What suggestions do you have for [url('leader')] to do in the next few months?</th>\n",
       "      <th>9: What changes have you seen in [url('leader')]'s overall leadership effectiveness?</th>\n",
       "      <th>question_type</th>\n",
       "      <th>question_answer_options</th>\n",
       "      <th>question_answer_values</th>\n",
       "    </tr>\n",
       "  </thead>\n",
       "  <tbody>\n",
       "    <tr>\n",
       "      <th>0</th>\n",
       "      <td>61.0</td>\n",
       "      <td>2021-02-03 13:39:38</td>\n",
       "      <td>2021-01-15 06:32:54</td>\n",
       "      <td>Complete</td>\n",
       "      <td>English</td>\n",
       "      <td>https://app.alchemer.com/builder/test/id/6167046</td>\n",
       "      <td>1612377578_601aedea6af3b3.75786384</td>\n",
       "      <td>Adrian Chang</td>\n",
       "      <td>To communicate better</td>\n",
       "      <td>To delegate more</td>\n",
       "      <td>Peer</td>\n",
       "      <td>11.0</td>\n",
       "      <td>13.0</td>\n",
       "      <td>2.0</td>\n",
       "      <td>-1.0</td>\n",
       "      <td>13.0</td>\n",
       "      <td>11.0</td>\n",
       "      <td>0.0</td>\n",
       "      <td>100.0</td>\n",
       "      <td>-100.0</td>\n",
       "      <td>Majesty,' he began, 'for bringing these.</td>\n",
       "      <td>He trusts to you how the Dodo solemnly, rising...</td>\n",
       "      <td>I've fallen by.</td>\n",
       "      <td>lga_likert</td>\n",
       "      <td>None</td>\n",
       "      <td>10</td>\n",
       "    </tr>\n",
       "    <tr>\n",
       "      <th>1</th>\n",
       "      <td>62.0</td>\n",
       "      <td>2021-02-03 13:39:38</td>\n",
       "      <td>2021-01-30 12:06:44</td>\n",
       "      <td>Complete</td>\n",
       "      <td>English</td>\n",
       "      <td>https://app.alchemer.com/builder/test/id/6167046</td>\n",
       "      <td>1612377578_601aedead30622.68545015</td>\n",
       "      <td>Adrian Chang</td>\n",
       "      <td>To communicate better</td>\n",
       "      <td>To delegate more</td>\n",
       "      <td>Direct Report</td>\n",
       "      <td>14.0</td>\n",
       "      <td>12.0</td>\n",
       "      <td>3.0</td>\n",
       "      <td>-1.0</td>\n",
       "      <td>14.0</td>\n",
       "      <td>11.0</td>\n",
       "      <td>0.0</td>\n",
       "      <td>100.0</td>\n",
       "      <td>-100.0</td>\n",
       "      <td>So she began thinking over other children she ...</td>\n",
       "      <td>I BEG your pardon!' cried Alice hastily, afrai...</td>\n",
       "      <td>Lizard's slate-pencil, and the other paw, 'liv...</td>\n",
       "      <td>lga_likert</td>\n",
       "      <td>A Little</td>\n",
       "      <td>11</td>\n",
       "    </tr>\n",
       "  </tbody>\n",
       "</table>\n",
       "</div>"
      ],
      "text/plain": [
       "   Response ID        Time Started      Date Submitted    Status Language  \\\n",
       "0         61.0 2021-02-03 13:39:38 2021-01-15 06:32:54  Complete  English   \n",
       "1         62.0 2021-02-03 13:39:38 2021-01-30 12:06:44  Complete  English   \n",
       "\n",
       "                                            Referer  \\\n",
       "0  https://app.alchemer.com/builder/test/id/6167046   \n",
       "1  https://app.alchemer.com/builder/test/id/6167046   \n",
       "\n",
       "                            SessionID URL Variable: leader  \\\n",
       "0  1612377578_601aedea6af3b3.75786384         Adrian Chang   \n",
       "1  1612377578_601aedead30622.68545015         Adrian Chang   \n",
       "\n",
       "      URL Variable: lga1 URL Variable: lga2 Relationship to Leader  \\\n",
       "0  To communicate better   To delegate more                   Peer   \n",
       "1  To communicate better   To delegate more          Direct Report   \n",
       "\n",
       "   1: [url('lga1')]:To what degree has [url('leader')] followed up with you to ask for feedback and suggestions on their development goal of the following growth areas?  \\\n",
       "0                                               11.0                                                                                                                       \n",
       "1                                               14.0                                                                                                                       \n",
       "\n",
       "   1: [url('lga2')]:To what degree has [url('leader')] followed up with you to ask for feedback and suggestions on their development goal of the following growth areas?  \\\n",
       "0                                               13.0                                                                                                                       \n",
       "1                                               12.0                                                                                                                       \n",
       "\n",
       "   2: [url('lga1')]:To what degree has[url('leader')] improved on their goal of the following leadership growth areas?  \\\n",
       "0                                                2.0                                                                     \n",
       "1                                                3.0                                                                     \n",
       "\n",
       "   2: [url('lga2')]:To what degree has[url('leader')] improved on their goal of the following leadership growth areas?  \\\n",
       "0                                               -1.0                                                                     \n",
       "1                                               -1.0                                                                     \n",
       "\n",
       "   3: [url('lga1')]:Did [url('leader')] communicate their leadership growth areas to you?  \\\n",
       "0                                               13.0                                        \n",
       "1                                               14.0                                        \n",
       "\n",
       "   3: [url('lga2')]:Did [url('leader')] communicate their leadership growth areas to you?  \\\n",
       "0                                               11.0                                        \n",
       "1                                               11.0                                        \n",
       "\n",
       "   4: Did [url('leader')] change their overall leadership effectiveness (Do not consider environmental factors beyond their control)?  \\\n",
       "0                                                0.0                                                                                    \n",
       "1                                                0.0                                                                                    \n",
       "\n",
       "   5: Has [url('leader')] shared their action plan with you?  \\\n",
       "0                                              100.0           \n",
       "1                                              100.0           \n",
       "\n",
       "   6: Did [url('leader')] implement their action plan and make change visible to you?  \\\n",
       "0                                             -100.0                                    \n",
       "1                                             -100.0                                    \n",
       "\n",
       "  7: What would you like to reinforce that [url('leader')] is doing well towards improving on their goals and action plan?  \\\n",
       "0           Majesty,' he began, 'for bringing these.                                                                         \n",
       "1  So she began thinking over other children she ...                                                                         \n",
       "\n",
       "  8: What suggestions do you have for [url('leader')] to do in the next few months?  \\\n",
       "0  He trusts to you how the Dodo solemnly, rising...                                  \n",
       "1  I BEG your pardon!' cried Alice hastily, afrai...                                  \n",
       "\n",
       "  9: What changes have you seen in [url('leader')]'s overall leadership effectiveness?  \\\n",
       "0                                    I've fallen by.                                     \n",
       "1  Lizard's slate-pencil, and the other paw, 'liv...                                     \n",
       "\n",
       "  question_type question_answer_options  question_answer_values  \n",
       "0    lga_likert                    None                      10  \n",
       "1    lga_likert                A Little                      11  "
      ]
     },
     "execution_count": 130,
     "metadata": {},
     "output_type": "execute_result"
    }
   ],
   "source": [
    "df.head(2)"
   ]
  },
  {
   "cell_type": "code",
   "execution_count": 93,
   "metadata": {},
   "outputs": [],
   "source": [
    "First_L=\"1: [url('lga1')]:To what degree has [url('leader')] followed up with you to ask for feedback and suggestions on their development goal of the following growth areas?\""
   ]
  },
  {
   "cell_type": "code",
   "execution_count": 94,
   "metadata": {},
   "outputs": [],
   "source": [
    "Second_M=\"1: [url('lga2')]:To what degree has [url('leader')] followed up with you to ask for feedback and suggestions on their development goal of the following growth areas?\""
   ]
  },
  {
   "cell_type": "code",
   "execution_count": 131,
   "metadata": {},
   "outputs": [],
   "source": [
    "Third_N=\"2: [url('lga1')]:To what degree has[url('leader')] improved on their goal of the following leadership growth areas?\""
   ]
  },
  {
   "cell_type": "code",
   "execution_count": 132,
   "metadata": {},
   "outputs": [],
   "source": [
    "Fourth_O=\"2: [url('lga2')]:To what degree has[url('leader')] improved on their goal of the following leadership growth areas?\""
   ]
  },
  {
   "cell_type": "code",
   "execution_count": 97,
   "metadata": {},
   "outputs": [],
   "source": [
    "Fifth_P=\"3: [url('lga1')]:Did [url('leader')] communicate their leadership growth areas to you?\""
   ]
  },
  {
   "cell_type": "code",
   "execution_count": 98,
   "metadata": {},
   "outputs": [],
   "source": [
    "Sixth_Q=\"3: [url('lga2')]:Did [url('leader')] communicate their leadership growth areas to you?\""
   ]
  },
  {
   "cell_type": "code",
   "execution_count": 99,
   "metadata": {},
   "outputs": [],
   "source": [
    "Seventh_R=\"4: Did [url('leader')] change their overall leadership effectiveness (Do not consider environmental factors beyond their control)?\""
   ]
  },
  {
   "cell_type": "code",
   "execution_count": 100,
   "metadata": {},
   "outputs": [],
   "source": [
    "Eight_S=\"5: Has [url('leader')] shared their action plan with you?\""
   ]
  },
  {
   "cell_type": "code",
   "execution_count": 153,
   "metadata": {},
   "outputs": [],
   "source": [
    "Ningth_T=\"6: Did [url('leader')] implement their action plan and make change visible to you?\""
   ]
  },
  {
   "cell_type": "code",
   "execution_count": 102,
   "metadata": {},
   "outputs": [],
   "source": [
    "Tenth_U=\"7: What would you like to reinforce that [url('leader')] is doing well towards improving on their goals and action plan?\""
   ]
  },
  {
   "cell_type": "code",
   "execution_count": 103,
   "metadata": {},
   "outputs": [],
   "source": [
    "Eleventh_V=\"8: What suggestions do you have for [url('leader')] to do in the next few months?\""
   ]
  },
  {
   "cell_type": "code",
   "execution_count": 104,
   "metadata": {},
   "outputs": [],
   "source": [
    "Twelve_W=\"9: What changes have you seen in [url('leader')]'s overall leadership effectiveness?\t\""
   ]
  },
  {
   "cell_type": "code",
   "execution_count": 134,
   "metadata": {},
   "outputs": [],
   "source": [
    "anser_options_L=[]\n",
    "question_types_L=[]\n",
    "for ind1,val1 in df.iterrows():\n",
    "    for ind2,val2 in df.iterrows():\n",
    "        if val1[First_L]==val2['question_answer_values']:\n",
    "            anser_options_L.append(val2['question_answer_options'])\n",
    "            question_types_L.append(val2['question_type'])"
   ]
  },
  {
   "cell_type": "code",
   "execution_count": 135,
   "metadata": {},
   "outputs": [],
   "source": [
    "anser_options_M=[]\n",
    "question_types_M=[]\n",
    "for ind1,val1 in df.iterrows():\n",
    "    for ind2,val2 in df.iterrows():\n",
    "        if val1[Second_M]==val2['question_answer_values']:\n",
    "            anser_options_M.append(val2['question_answer_options'])\n",
    "            question_types_M.append(val2['question_type'])"
   ]
  },
  {
   "cell_type": "code",
   "execution_count": 136,
   "metadata": {},
   "outputs": [],
   "source": [
    "anser_options_N=[]\n",
    "question_types_N=[]\n",
    "for ind1,val1 in df.iterrows():\n",
    "    for ind2,val2 in df.iterrows():\n",
    "        if val1[Third_N]==val2['question_answer_values']:\n",
    "            anser_options_N.append(val2['question_answer_options'])\n",
    "            question_types_N.append(val2['question_type'])"
   ]
  },
  {
   "cell_type": "code",
   "execution_count": 138,
   "metadata": {},
   "outputs": [],
   "source": [
    "anser_options_O=[]\n",
    "question_types_O=[]\n",
    "for ind1,val1 in df.iterrows():\n",
    "    for ind2,val2 in df.iterrows():\n",
    "        if val1[Fourth_O]==val2['question_answer_values']:\n",
    "            anser_options_O.append(val2['question_answer_options'])\n",
    "            question_types_O.append(val2['question_type'])"
   ]
  },
  {
   "cell_type": "code",
   "execution_count": 139,
   "metadata": {},
   "outputs": [],
   "source": [
    "anser_options_P=[]\n",
    "question_types_P=[]\n",
    "for ind1,val1 in df.iterrows():\n",
    "    for ind2,val2 in df.iterrows():\n",
    "        if val1[Fifth_P]==val2['question_answer_values']:\n",
    "            anser_options_P.append(val2['question_answer_options'])\n",
    "            question_types_P.append(val2['question_type'])"
   ]
  },
  {
   "cell_type": "code",
   "execution_count": 140,
   "metadata": {},
   "outputs": [],
   "source": [
    "anser_options_Q=[]\n",
    "question_types_Q=[]\n",
    "for ind1,val1 in df.iterrows():\n",
    "    for ind2,val2 in df.iterrows():\n",
    "        if val1[Sixth_Q]==val2['question_answer_values']:\n",
    "            anser_options_Q.append(val2['question_answer_options'])\n",
    "            question_types_Q.append(val2['question_type'])"
   ]
  },
  {
   "cell_type": "code",
   "execution_count": 142,
   "metadata": {},
   "outputs": [],
   "source": [
    "anser_options_R=[]\n",
    "question_types_R=[]\n",
    "for ind1,val1 in df.iterrows():\n",
    "    for ind2,val2 in df.iterrows():\n",
    "        if val1[Seventh_R]==val2['question_answer_values']:\n",
    "            anser_options_R.append(val2['question_answer_options'])\n",
    "            question_types_R.append(val2['question_type'])"
   ]
  },
  {
   "cell_type": "code",
   "execution_count": 143,
   "metadata": {},
   "outputs": [],
   "source": [
    "anser_options_S=[]\n",
    "question_types_S=[]\n",
    "for ind1,val1 in df.iterrows():\n",
    "    for ind2,val2 in df.iterrows():\n",
    "        if val1[Eight_S]==val2['question_answer_values']:\n",
    "            anser_options_S.append(val2['question_answer_options'])\n",
    "            question_types_S.append(val2['question_type'])"
   ]
  },
  {
   "cell_type": "code",
   "execution_count": 154,
   "metadata": {},
   "outputs": [],
   "source": [
    "anser_options_T=[]\n",
    "question_types_T=[]\n",
    "for ind1,val1 in df.iterrows():\n",
    "    for ind2,val2 in df.iterrows():\n",
    "        if val1[Ningth_T]==val2['question_answer_values']:\n",
    "            anser_options_T.append(val2['question_answer_options'])\n",
    "            question_types_T.append(val2['question_type'])"
   ]
  },
  {
   "cell_type": "code",
   "execution_count": null,
   "metadata": {},
   "outputs": [],
   "source": [
    "anser_options_M=[]\n",
    "question_types_M=[]"
   ]
  },
  {
   "cell_type": "code",
   "execution_count": 170,
   "metadata": {},
   "outputs": [],
   "source": [
    "df['Anser_Options_L']=pd.Series(anser_options_L)\n",
    "df['Question_Types_L']=pd.Series(question_types_L)"
   ]
  },
  {
   "cell_type": "code",
   "execution_count": 155,
   "metadata": {},
   "outputs": [],
   "source": [
    "df['Anser_Options_M']=pd.Series(anser_options_M)\n",
    "df['Question_Types_M']=pd.Series(question_types_M)"
   ]
  },
  {
   "cell_type": "code",
   "execution_count": 156,
   "metadata": {},
   "outputs": [],
   "source": [
    "df['Anser_Options_N']=pd.Series(anser_options_N)\n",
    "df['Question_Types_N']=pd.Series(question_types_N)"
   ]
  },
  {
   "cell_type": "code",
   "execution_count": 157,
   "metadata": {},
   "outputs": [],
   "source": [
    "df['Anser_Options_O']=pd.Series(anser_options_O)\n",
    "df['Question_Types_O']=pd.Series(question_types_O)"
   ]
  },
  {
   "cell_type": "code",
   "execution_count": 158,
   "metadata": {},
   "outputs": [],
   "source": [
    "df['Anser_Options_P']=pd.Series(anser_options_P)\n",
    "df['Question_Types_P']=pd.Series(question_types_P)"
   ]
  },
  {
   "cell_type": "code",
   "execution_count": 159,
   "metadata": {},
   "outputs": [],
   "source": [
    "df['Anser_Options_Q']=pd.Series(anser_options_Q)\n",
    "df['Question_Types_Q']=pd.Series(question_types_Q)"
   ]
  },
  {
   "cell_type": "code",
   "execution_count": 160,
   "metadata": {},
   "outputs": [],
   "source": [
    "df['Anser_Options_R']=pd.Series(anser_options_R)\n",
    "df['Question_Types_R']=pd.Series(question_types_R)"
   ]
  },
  {
   "cell_type": "code",
   "execution_count": 161,
   "metadata": {},
   "outputs": [],
   "source": [
    "df['Anser_Options_S']=pd.Series(anser_options_S)\n",
    "df['Question_Types_S']=pd.Series(question_types_S)"
   ]
  },
  {
   "cell_type": "code",
   "execution_count": 162,
   "metadata": {},
   "outputs": [],
   "source": [
    "df['Anser_Options_T']=pd.Series(anser_options_T)\n",
    "df['Question_Types_T']=pd.Series(question_types_T)"
   ]
  },
  {
   "cell_type": "code",
   "execution_count": 163,
   "metadata": {},
   "outputs": [
    {
     "data": {
      "text/plain": [
       "0     yes_no\n",
       "1     yes_no\n",
       "2     yes_no\n",
       "3     yes_no\n",
       "4     yes_no\n",
       "5     yes_no\n",
       "6     yes_no\n",
       "7     yes_no\n",
       "8     yes_no\n",
       "9     yes_no\n",
       "10       NaN\n",
       "11       NaN\n",
       "12       NaN\n",
       "13       NaN\n",
       "14       NaN\n",
       "15       NaN\n",
       "Name: Question_Types_T, dtype: object"
      ]
     },
     "execution_count": 163,
     "metadata": {},
     "output_type": "execute_result"
    }
   ],
   "source": [
    "df['Question_Types_T']"
   ]
  },
  {
   "cell_type": "code",
   "execution_count": 167,
   "metadata": {},
   "outputs": [
    {
     "data": {
      "text/plain": [
       "0     A Little\n",
       "1     A Little\n",
       "2         None\n",
       "3         Some\n",
       "4     A Little\n",
       "5     A Little\n",
       "6     A Little\n",
       "7     Moderate\n",
       "8         Some\n",
       "9         None\n",
       "10         NaN\n",
       "11         NaN\n",
       "12         NaN\n",
       "13         NaN\n",
       "14         NaN\n",
       "15         NaN\n",
       "Name: Anser_Options_Q, dtype: object"
      ]
     },
     "execution_count": 167,
     "metadata": {},
     "output_type": "execute_result"
    }
   ],
   "source": [
    "df['Anser_Options_Q']"
   ]
  },
  {
   "cell_type": "code",
   "execution_count": 166,
   "metadata": {},
   "outputs": [
    {
     "data": {
      "text/plain": [
       "0     lga_likert_slide\n",
       "1     lga_likert_slide\n",
       "2     lga_likert_slide\n",
       "3     lga_likert_slide\n",
       "4     lga_likert_slide\n",
       "5     lga_likert_slide\n",
       "6     lga_likert_slide\n",
       "7     lga_likert_slide\n",
       "8     lga_likert_slide\n",
       "9     lga_likert_slide\n",
       "10                 NaN\n",
       "11                 NaN\n",
       "12                 NaN\n",
       "13                 NaN\n",
       "14                 NaN\n",
       "15                 NaN\n",
       "Name: Question_Types_O, dtype: object"
      ]
     },
     "execution_count": 166,
     "metadata": {},
     "output_type": "execute_result"
    }
   ],
   "source": [
    "df['Question_Types_O']"
   ]
  },
  {
   "cell_type": "code",
   "execution_count": 171,
   "metadata": {},
   "outputs": [],
   "source": [
    "df.to_excel('Testing_File.xlsx',index=False)"
   ]
  },
  {
   "cell_type": "code",
   "execution_count": null,
   "metadata": {},
   "outputs": [],
   "source": []
  }
 ],
 "metadata": {
  "kernelspec": {
   "display_name": "Python 3",
   "language": "python",
   "name": "python3"
  },
  "language_info": {
   "codemirror_mode": {
    "name": "ipython",
    "version": 3
   },
   "file_extension": ".py",
   "mimetype": "text/x-python",
   "name": "python",
   "nbconvert_exporter": "python",
   "pygments_lexer": "ipython3",
   "version": "3.8.5"
  }
 },
 "nbformat": 4,
 "nbformat_minor": 4
}
