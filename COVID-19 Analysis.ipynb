{
 "cells": [
  {
   "cell_type": "code",
   "execution_count": 158,
   "metadata": {},
   "outputs": [],
   "source": [
    "import numpy as np\n",
    "import pandas as pd"
   ]
  },
  {
   "cell_type": "markdown",
   "metadata": {},
   "source": [
    "### Loading Dataset "
   ]
  },
  {
   "cell_type": "code",
   "execution_count": 180,
   "metadata": {},
   "outputs": [],
   "source": [
    "ds = pd.read_csv('I:\\Text Datasets\\CSV\\patient.csv')"
   ]
  },
  {
   "cell_type": "markdown",
   "metadata": {},
   "source": [
    "### Replacing Null Values with 0 "
   ]
  },
  {
   "cell_type": "code",
   "execution_count": 181,
   "metadata": {},
   "outputs": [],
   "source": [
    "ds=ds.replace(np.NaN,0)"
   ]
  },
  {
   "cell_type": "code",
   "execution_count": 182,
   "metadata": {},
   "outputs": [
    {
     "data": {
      "text/html": [
       "<div>\n",
       "<style scoped>\n",
       "    .dataframe tbody tr th:only-of-type {\n",
       "        vertical-align: middle;\n",
       "    }\n",
       "\n",
       "    .dataframe tbody tr th {\n",
       "        vertical-align: top;\n",
       "    }\n",
       "\n",
       "    .dataframe thead th {\n",
       "        text-align: right;\n",
       "    }\n",
       "</style>\n",
       "<table border=\"1\" class=\"dataframe\">\n",
       "  <thead>\n",
       "    <tr style=\"text-align: right;\">\n",
       "      <th></th>\n",
       "      <th>patient_id</th>\n",
       "      <th>sex</th>\n",
       "      <th>birth_year</th>\n",
       "      <th>country</th>\n",
       "      <th>region</th>\n",
       "      <th>disease</th>\n",
       "      <th>group</th>\n",
       "      <th>infection_reason</th>\n",
       "      <th>infection_order</th>\n",
       "      <th>infected_by</th>\n",
       "      <th>contact_number</th>\n",
       "      <th>confirmed_date</th>\n",
       "      <th>released_date</th>\n",
       "      <th>deceased_date</th>\n",
       "      <th>state</th>\n",
       "    </tr>\n",
       "  </thead>\n",
       "  <tbody>\n",
       "    <tr>\n",
       "      <th>0</th>\n",
       "      <td>1</td>\n",
       "      <td>female</td>\n",
       "      <td>1984.0</td>\n",
       "      <td>China</td>\n",
       "      <td>filtered at airport</td>\n",
       "      <td>0.0</td>\n",
       "      <td>0</td>\n",
       "      <td>visit to Wuhan</td>\n",
       "      <td>1.0</td>\n",
       "      <td>0.0</td>\n",
       "      <td>45.0</td>\n",
       "      <td>1/20/2020</td>\n",
       "      <td>2/6/2020</td>\n",
       "      <td>0</td>\n",
       "      <td>released</td>\n",
       "    </tr>\n",
       "    <tr>\n",
       "      <th>1</th>\n",
       "      <td>2</td>\n",
       "      <td>male</td>\n",
       "      <td>1964.0</td>\n",
       "      <td>Korea</td>\n",
       "      <td>filtered at airport</td>\n",
       "      <td>0.0</td>\n",
       "      <td>0</td>\n",
       "      <td>visit to Wuhan</td>\n",
       "      <td>1.0</td>\n",
       "      <td>0.0</td>\n",
       "      <td>75.0</td>\n",
       "      <td>1/24/2020</td>\n",
       "      <td>2/5/2020</td>\n",
       "      <td>0</td>\n",
       "      <td>released</td>\n",
       "    </tr>\n",
       "    <tr>\n",
       "      <th>2</th>\n",
       "      <td>3</td>\n",
       "      <td>male</td>\n",
       "      <td>1966.0</td>\n",
       "      <td>Korea</td>\n",
       "      <td>capital area</td>\n",
       "      <td>0.0</td>\n",
       "      <td>0</td>\n",
       "      <td>visit to Wuhan</td>\n",
       "      <td>1.0</td>\n",
       "      <td>0.0</td>\n",
       "      <td>16.0</td>\n",
       "      <td>1/26/2020</td>\n",
       "      <td>2/12/2020</td>\n",
       "      <td>0</td>\n",
       "      <td>released</td>\n",
       "    </tr>\n",
       "    <tr>\n",
       "      <th>3</th>\n",
       "      <td>4</td>\n",
       "      <td>male</td>\n",
       "      <td>1964.0</td>\n",
       "      <td>Korea</td>\n",
       "      <td>capital area</td>\n",
       "      <td>0.0</td>\n",
       "      <td>0</td>\n",
       "      <td>visit to Wuhan</td>\n",
       "      <td>1.0</td>\n",
       "      <td>0.0</td>\n",
       "      <td>95.0</td>\n",
       "      <td>1/27/2020</td>\n",
       "      <td>2/9/2020</td>\n",
       "      <td>0</td>\n",
       "      <td>released</td>\n",
       "    </tr>\n",
       "    <tr>\n",
       "      <th>4</th>\n",
       "      <td>5</td>\n",
       "      <td>male</td>\n",
       "      <td>1987.0</td>\n",
       "      <td>Korea</td>\n",
       "      <td>capital area</td>\n",
       "      <td>0.0</td>\n",
       "      <td>0</td>\n",
       "      <td>visit to Wuhan</td>\n",
       "      <td>1.0</td>\n",
       "      <td>0.0</td>\n",
       "      <td>31.0</td>\n",
       "      <td>1/30/2020</td>\n",
       "      <td>3/2/2020</td>\n",
       "      <td>0</td>\n",
       "      <td>released</td>\n",
       "    </tr>\n",
       "  </tbody>\n",
       "</table>\n",
       "</div>"
      ],
      "text/plain": [
       "   patient_id     sex  birth_year country               region  disease group  \\\n",
       "0           1  female      1984.0   China  filtered at airport      0.0     0   \n",
       "1           2    male      1964.0   Korea  filtered at airport      0.0     0   \n",
       "2           3    male      1966.0   Korea         capital area      0.0     0   \n",
       "3           4    male      1964.0   Korea         capital area      0.0     0   \n",
       "4           5    male      1987.0   Korea         capital area      0.0     0   \n",
       "\n",
       "  infection_reason  infection_order  infected_by  contact_number  \\\n",
       "0   visit to Wuhan              1.0          0.0            45.0   \n",
       "1   visit to Wuhan              1.0          0.0            75.0   \n",
       "2   visit to Wuhan              1.0          0.0            16.0   \n",
       "3   visit to Wuhan              1.0          0.0            95.0   \n",
       "4   visit to Wuhan              1.0          0.0            31.0   \n",
       "\n",
       "  confirmed_date released_date deceased_date     state  \n",
       "0      1/20/2020      2/6/2020             0  released  \n",
       "1      1/24/2020      2/5/2020             0  released  \n",
       "2      1/26/2020     2/12/2020             0  released  \n",
       "3      1/27/2020      2/9/2020             0  released  \n",
       "4      1/30/2020      3/2/2020             0  released  "
      ]
     },
     "execution_count": 182,
     "metadata": {},
     "output_type": "execute_result"
    }
   ],
   "source": [
    "ds.head()"
   ]
  },
  {
   "cell_type": "markdown",
   "metadata": {},
   "source": [
    "### Setting up Datetime "
   ]
  },
  {
   "cell_type": "code",
   "execution_count": 183,
   "metadata": {},
   "outputs": [],
   "source": [
    "ds['confirm_date']=pd.to_datetime(ds.confirmed_date)\n",
    "ds['release_date']=pd.to_datetime(ds.released_date)"
   ]
  },
  {
   "cell_type": "code",
   "execution_count": 184,
   "metadata": {},
   "outputs": [
    {
     "data": {
      "text/html": [
       "<div>\n",
       "<style scoped>\n",
       "    .dataframe tbody tr th:only-of-type {\n",
       "        vertical-align: middle;\n",
       "    }\n",
       "\n",
       "    .dataframe tbody tr th {\n",
       "        vertical-align: top;\n",
       "    }\n",
       "\n",
       "    .dataframe thead th {\n",
       "        text-align: right;\n",
       "    }\n",
       "</style>\n",
       "<table border=\"1\" class=\"dataframe\">\n",
       "  <thead>\n",
       "    <tr style=\"text-align: right;\">\n",
       "      <th></th>\n",
       "      <th>patient_id</th>\n",
       "      <th>sex</th>\n",
       "      <th>birth_year</th>\n",
       "      <th>country</th>\n",
       "      <th>region</th>\n",
       "      <th>disease</th>\n",
       "      <th>group</th>\n",
       "      <th>infection_reason</th>\n",
       "      <th>infection_order</th>\n",
       "      <th>infected_by</th>\n",
       "      <th>contact_number</th>\n",
       "      <th>confirmed_date</th>\n",
       "      <th>released_date</th>\n",
       "      <th>deceased_date</th>\n",
       "      <th>state</th>\n",
       "      <th>confirm_date</th>\n",
       "      <th>release_date</th>\n",
       "    </tr>\n",
       "  </thead>\n",
       "  <tbody>\n",
       "    <tr>\n",
       "      <th>0</th>\n",
       "      <td>1</td>\n",
       "      <td>female</td>\n",
       "      <td>1984.0</td>\n",
       "      <td>China</td>\n",
       "      <td>filtered at airport</td>\n",
       "      <td>0.0</td>\n",
       "      <td>0</td>\n",
       "      <td>visit to Wuhan</td>\n",
       "      <td>1.0</td>\n",
       "      <td>0.0</td>\n",
       "      <td>45.0</td>\n",
       "      <td>1/20/2020</td>\n",
       "      <td>2/6/2020</td>\n",
       "      <td>0</td>\n",
       "      <td>released</td>\n",
       "      <td>2020-01-20</td>\n",
       "      <td>2020-02-06</td>\n",
       "    </tr>\n",
       "    <tr>\n",
       "      <th>1</th>\n",
       "      <td>2</td>\n",
       "      <td>male</td>\n",
       "      <td>1964.0</td>\n",
       "      <td>Korea</td>\n",
       "      <td>filtered at airport</td>\n",
       "      <td>0.0</td>\n",
       "      <td>0</td>\n",
       "      <td>visit to Wuhan</td>\n",
       "      <td>1.0</td>\n",
       "      <td>0.0</td>\n",
       "      <td>75.0</td>\n",
       "      <td>1/24/2020</td>\n",
       "      <td>2/5/2020</td>\n",
       "      <td>0</td>\n",
       "      <td>released</td>\n",
       "      <td>2020-01-24</td>\n",
       "      <td>2020-02-05</td>\n",
       "    </tr>\n",
       "    <tr>\n",
       "      <th>2</th>\n",
       "      <td>3</td>\n",
       "      <td>male</td>\n",
       "      <td>1966.0</td>\n",
       "      <td>Korea</td>\n",
       "      <td>capital area</td>\n",
       "      <td>0.0</td>\n",
       "      <td>0</td>\n",
       "      <td>visit to Wuhan</td>\n",
       "      <td>1.0</td>\n",
       "      <td>0.0</td>\n",
       "      <td>16.0</td>\n",
       "      <td>1/26/2020</td>\n",
       "      <td>2/12/2020</td>\n",
       "      <td>0</td>\n",
       "      <td>released</td>\n",
       "      <td>2020-01-26</td>\n",
       "      <td>2020-02-12</td>\n",
       "    </tr>\n",
       "    <tr>\n",
       "      <th>3</th>\n",
       "      <td>4</td>\n",
       "      <td>male</td>\n",
       "      <td>1964.0</td>\n",
       "      <td>Korea</td>\n",
       "      <td>capital area</td>\n",
       "      <td>0.0</td>\n",
       "      <td>0</td>\n",
       "      <td>visit to Wuhan</td>\n",
       "      <td>1.0</td>\n",
       "      <td>0.0</td>\n",
       "      <td>95.0</td>\n",
       "      <td>1/27/2020</td>\n",
       "      <td>2/9/2020</td>\n",
       "      <td>0</td>\n",
       "      <td>released</td>\n",
       "      <td>2020-01-27</td>\n",
       "      <td>2020-02-09</td>\n",
       "    </tr>\n",
       "    <tr>\n",
       "      <th>4</th>\n",
       "      <td>5</td>\n",
       "      <td>male</td>\n",
       "      <td>1987.0</td>\n",
       "      <td>Korea</td>\n",
       "      <td>capital area</td>\n",
       "      <td>0.0</td>\n",
       "      <td>0</td>\n",
       "      <td>visit to Wuhan</td>\n",
       "      <td>1.0</td>\n",
       "      <td>0.0</td>\n",
       "      <td>31.0</td>\n",
       "      <td>1/30/2020</td>\n",
       "      <td>3/2/2020</td>\n",
       "      <td>0</td>\n",
       "      <td>released</td>\n",
       "      <td>2020-01-30</td>\n",
       "      <td>2020-03-02</td>\n",
       "    </tr>\n",
       "  </tbody>\n",
       "</table>\n",
       "</div>"
      ],
      "text/plain": [
       "   patient_id     sex  birth_year country               region  disease group  \\\n",
       "0           1  female      1984.0   China  filtered at airport      0.0     0   \n",
       "1           2    male      1964.0   Korea  filtered at airport      0.0     0   \n",
       "2           3    male      1966.0   Korea         capital area      0.0     0   \n",
       "3           4    male      1964.0   Korea         capital area      0.0     0   \n",
       "4           5    male      1987.0   Korea         capital area      0.0     0   \n",
       "\n",
       "  infection_reason  infection_order  infected_by  contact_number  \\\n",
       "0   visit to Wuhan              1.0          0.0            45.0   \n",
       "1   visit to Wuhan              1.0          0.0            75.0   \n",
       "2   visit to Wuhan              1.0          0.0            16.0   \n",
       "3   visit to Wuhan              1.0          0.0            95.0   \n",
       "4   visit to Wuhan              1.0          0.0            31.0   \n",
       "\n",
       "  confirmed_date released_date deceased_date     state confirm_date  \\\n",
       "0      1/20/2020      2/6/2020             0  released   2020-01-20   \n",
       "1      1/24/2020      2/5/2020             0  released   2020-01-24   \n",
       "2      1/26/2020     2/12/2020             0  released   2020-01-26   \n",
       "3      1/27/2020      2/9/2020             0  released   2020-01-27   \n",
       "4      1/30/2020      3/2/2020             0  released   2020-01-30   \n",
       "\n",
       "  release_date  \n",
       "0   2020-02-06  \n",
       "1   2020-02-05  \n",
       "2   2020-02-12  \n",
       "3   2020-02-09  \n",
       "4   2020-03-02  "
      ]
     },
     "execution_count": 184,
     "metadata": {},
     "output_type": "execute_result"
    }
   ],
   "source": [
    "ds.head()"
   ]
  },
  {
   "cell_type": "markdown",
   "metadata": {},
   "source": [
    "### Checking Correlation for filtring Data Columns "
   ]
  },
  {
   "cell_type": "code",
   "execution_count": 186,
   "metadata": {},
   "outputs": [
    {
     "data": {
      "text/html": [
       "<div>\n",
       "<style scoped>\n",
       "    .dataframe tbody tr th:only-of-type {\n",
       "        vertical-align: middle;\n",
       "    }\n",
       "\n",
       "    .dataframe tbody tr th {\n",
       "        vertical-align: top;\n",
       "    }\n",
       "\n",
       "    .dataframe thead th {\n",
       "        text-align: right;\n",
       "    }\n",
       "</style>\n",
       "<table border=\"1\" class=\"dataframe\">\n",
       "  <thead>\n",
       "    <tr style=\"text-align: right;\">\n",
       "      <th></th>\n",
       "      <th>patient_id</th>\n",
       "      <th>birth_year</th>\n",
       "      <th>disease</th>\n",
       "      <th>infection_order</th>\n",
       "      <th>infected_by</th>\n",
       "      <th>contact_number</th>\n",
       "    </tr>\n",
       "  </thead>\n",
       "  <tbody>\n",
       "    <tr>\n",
       "      <th>patient_id</th>\n",
       "      <td>1.000000</td>\n",
       "      <td>-0.395314</td>\n",
       "      <td>-0.054296</td>\n",
       "      <td>-0.012568</td>\n",
       "      <td>-0.058957</td>\n",
       "      <td>-0.047572</td>\n",
       "    </tr>\n",
       "    <tr>\n",
       "      <th>birth_year</th>\n",
       "      <td>-0.395314</td>\n",
       "      <td>1.000000</td>\n",
       "      <td>0.194112</td>\n",
       "      <td>0.075238</td>\n",
       "      <td>0.179177</td>\n",
       "      <td>0.096792</td>\n",
       "    </tr>\n",
       "    <tr>\n",
       "      <th>disease</th>\n",
       "      <td>-0.054296</td>\n",
       "      <td>0.194112</td>\n",
       "      <td>1.000000</td>\n",
       "      <td>-0.001371</td>\n",
       "      <td>-0.003257</td>\n",
       "      <td>-0.001764</td>\n",
       "    </tr>\n",
       "    <tr>\n",
       "      <th>infection_order</th>\n",
       "      <td>-0.012568</td>\n",
       "      <td>0.075238</td>\n",
       "      <td>-0.001371</td>\n",
       "      <td>1.000000</td>\n",
       "      <td>0.004235</td>\n",
       "      <td>0.084149</td>\n",
       "    </tr>\n",
       "    <tr>\n",
       "      <th>infected_by</th>\n",
       "      <td>-0.058957</td>\n",
       "      <td>0.179177</td>\n",
       "      <td>-0.003257</td>\n",
       "      <td>0.004235</td>\n",
       "      <td>1.000000</td>\n",
       "      <td>0.012242</td>\n",
       "    </tr>\n",
       "    <tr>\n",
       "      <th>contact_number</th>\n",
       "      <td>-0.047572</td>\n",
       "      <td>0.096792</td>\n",
       "      <td>-0.001764</td>\n",
       "      <td>0.084149</td>\n",
       "      <td>0.012242</td>\n",
       "      <td>1.000000</td>\n",
       "    </tr>\n",
       "  </tbody>\n",
       "</table>\n",
       "</div>"
      ],
      "text/plain": [
       "                 patient_id  birth_year   disease  infection_order  \\\n",
       "patient_id         1.000000   -0.395314 -0.054296        -0.012568   \n",
       "birth_year        -0.395314    1.000000  0.194112         0.075238   \n",
       "disease           -0.054296    0.194112  1.000000        -0.001371   \n",
       "infection_order   -0.012568    0.075238 -0.001371         1.000000   \n",
       "infected_by       -0.058957    0.179177 -0.003257         0.004235   \n",
       "contact_number    -0.047572    0.096792 -0.001764         0.084149   \n",
       "\n",
       "                 infected_by  contact_number  \n",
       "patient_id         -0.058957       -0.047572  \n",
       "birth_year          0.179177        0.096792  \n",
       "disease            -0.003257       -0.001764  \n",
       "infection_order     0.004235        0.084149  \n",
       "infected_by         1.000000        0.012242  \n",
       "contact_number      0.012242        1.000000  "
      ]
     },
     "execution_count": 186,
     "metadata": {},
     "output_type": "execute_result"
    }
   ],
   "source": [
    "ds.corr()"
   ]
  },
  {
   "cell_type": "markdown",
   "metadata": {},
   "source": [
    "### Reving Irrelevent Columns "
   ]
  },
  {
   "cell_type": "code",
   "execution_count": 187,
   "metadata": {},
   "outputs": [],
   "source": [
    "ds.drop(['group','confirmed_date','released_date','deceased_date','patient_id','infection_order','infected_by'],axis=1,inplace=True)"
   ]
  },
  {
   "cell_type": "markdown",
   "metadata": {},
   "source": [
    "### Calculating Age "
   ]
  },
  {
   "cell_type": "code",
   "execution_count": 188,
   "metadata": {},
   "outputs": [],
   "source": [
    "ds['age']=ds.confirm_date.dt.year-ds.birth_year"
   ]
  },
  {
   "cell_type": "markdown",
   "metadata": {},
   "source": [
    "### Gender Patient Rate\n",
    " -  Checking here which gender has more patient\n",
    " -  filtering data with 2020 because this is not a real values"
   ]
  },
  {
   "cell_type": "code",
   "execution_count": 189,
   "metadata": {},
   "outputs": [
    {
     "data": {
      "text/plain": [
       "<matplotlib.axes._subplots.AxesSubplot at 0x14e3efd82b0>"
      ]
     },
     "execution_count": 189,
     "metadata": {},
     "output_type": "execute_result"
    },
    {
     "data": {
      "image/png": "[encoded data removed]",
      "text/plain": [
       "<Figure size 432x288 with 1 Axes>"
      ]
     },
     "metadata": {
      "needs_background": "light"
     },
     "output_type": "display_data"
    }
   ],
   "source": [
    "ds[ds.age!=2020].groupby('sex').size().plot(kind='bar')"
   ]
  },
  {
   "cell_type": "markdown",
   "metadata": {},
   "source": [
    "### Top 10 Patient Age Rate  "
   ]
  },
  {
   "cell_type": "code",
   "execution_count": 190,
   "metadata": {},
   "outputs": [
    {
     "data": {
      "text/plain": [
       "<matplotlib.axes._subplots.AxesSubplot at 0x14e430795f8>"
      ]
     },
     "execution_count": 190,
     "metadata": {},
     "output_type": "execute_result"
    },
    {
     "data": {
      "image/png": "[encoded data removed]",
      "text/plain": [
       "<Figure size 432x288 with 1 Axes>"
      ]
     },
     "metadata": {
      "needs_background": "light"
     },
     "output_type": "display_data"
    }
   ],
   "source": [
    "ds[ds.age!=2020].age.value_counts().nlargest(10).plot(kind='barh')"
   ]
  },
  {
   "cell_type": "markdown",
   "metadata": {},
   "source": [
    "### Checking Country with Sex Rate \n",
    " -  Which Country has more patient with Gender"
   ]
  },
  {
   "cell_type": "code",
   "execution_count": 192,
   "metadata": {},
   "outputs": [
    {
     "data": {
      "text/plain": [
       "country   sex   \n",
       "China     female      6\n",
       "          male        2\n",
       "Korea     0           1\n",
       "          female    378\n",
       "          male      278\n",
       "Mongolia  male        1\n",
       "dtype: int64"
      ]
     },
     "execution_count": 192,
     "metadata": {},
     "output_type": "execute_result"
    }
   ],
   "source": [
    "ds[ds.age!=2020].groupby(['country','sex']).size()"
   ]
  },
  {
   "cell_type": "markdown",
   "metadata": {},
   "source": [
    "### Comparing Patient Rate Country,Gender with Age \n",
    " - How much Patient on the base of country , gender and age"
   ]
  },
  {
   "cell_type": "code",
   "execution_count": 197,
   "metadata": {},
   "outputs": [
    {
     "data": {
      "text/plain": [
       "<matplotlib.axes._subplots.AxesSubplot at 0x14e4451c860>"
      ]
     },
     "execution_count": 197,
     "metadata": {},
     "output_type": "execute_result"
    },
    {
     "data": {
      "image/png": "[encoded data removed]",
      "text/plain": [
       "<Figure size 432x288 with 1 Axes>"
      ]
     },
     "metadata": {
      "needs_background": "light"
     },
     "output_type": "display_data"
    }
   ],
   "source": [
    "ds[ds.age!=2020].groupby(['country','sex']).age.value_counts().nlargest(10).plot(kind='barh')"
   ]
  },
  {
   "cell_type": "markdown",
   "metadata": {},
   "source": [
    "###  Confirmed Patient Cause"
   ]
  },
  {
   "cell_type": "code",
   "execution_count": 194,
   "metadata": {},
   "outputs": [
    {
     "data": {
      "text/plain": [
       "infection_reason\n",
       "contact with patient                 76\n",
       "contact with patient in Daegu         1\n",
       "contact with patient in Japan         1\n",
       "contact with patient in Singapore     2\n",
       "pilgrimage to Israel                  6\n",
       "residence in Wuhan                    2\n",
       "visit to China                        2\n",
       "visit to Daegu                       50\n",
       "visit to Italy                        1\n",
       "visit to Japan                        1\n",
       "visit to Thailand                     2\n",
       "visit to Vietnam                      1\n",
       "visit to Wuhan                        8\n",
       "visit to ooo                          1\n",
       "dtype: int64"
      ]
     },
     "execution_count": 194,
     "metadata": {},
     "output_type": "execute_result"
    }
   ],
   "source": [
    "ds[ds.infection_reason!=0].groupby(['infection_reason']).size()"
   ]
  },
  {
   "cell_type": "code",
   "execution_count": null,
   "metadata": {},
   "outputs": [],
   "source": []
  }
 ],
 "metadata": {
  "kernelspec": {
   "display_name": "Python 3",
   "language": "python",
   "name": "python3"
  },
  "language_info": {
   "codemirror_mode": {
    "name": "ipython",
    "version": 3
   },
   "file_extension": ".py",
   "mimetype": "text/x-python",
   "name": "python",
   "nbconvert_exporter": "python",
   "pygments_lexer": "ipython3",
   "version": "3.7.3"
  }
 },
 "nbformat": 4,
 "nbformat_minor": 2
}
