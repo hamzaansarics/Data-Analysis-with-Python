{
 "cells": [
  {
   "cell_type": "code",
   "execution_count": 295,
   "metadata": {},
   "outputs": [],
   "source": [
    "import numpy as np\n",
    "import pandas as pd\n",
    "import seaborn as sns\n",
    "import matplotlib.pyplot as plt"
   ]
  },
  {
   "cell_type": "code",
   "execution_count": 296,
   "metadata": {},
   "outputs": [],
   "source": [
    "df=pd.read_csv(r'I:\\Text Datasets\\Analysed Data with Python\\ICC ODI Batting 2589.csv',encoding='latin',na_values=['-','NaN','Null'])"
   ]
  },
  {
   "cell_type": "code",
   "execution_count": 297,
   "metadata": {},
   "outputs": [
    {
     "data": {
      "text/html": [
       "<div>\n",
       "<style scoped>\n",
       "    .dataframe tbody tr th:only-of-type {\n",
       "        vertical-align: middle;\n",
       "    }\n",
       "\n",
       "    .dataframe tbody tr th {\n",
       "        vertical-align: top;\n",
       "    }\n",
       "\n",
       "    .dataframe thead th {\n",
       "        text-align: right;\n",
       "    }\n",
       "</style>\n",
       "<table border=\"1\" class=\"dataframe\">\n",
       "  <thead>\n",
       "    <tr style=\"text-align: right;\">\n",
       "      <th></th>\n",
       "      <th>Player</th>\n",
       "      <th>Span</th>\n",
       "      <th>Mat</th>\n",
       "      <th>Inns</th>\n",
       "      <th>NO</th>\n",
       "      <th>Runs</th>\n",
       "      <th>HS</th>\n",
       "      <th>Ave</th>\n",
       "      <th>BF</th>\n",
       "      <th>SR</th>\n",
       "      <th>100</th>\n",
       "      <th>50</th>\n",
       "      <th>0</th>\n",
       "      <th>Player_URL</th>\n",
       "    </tr>\n",
       "  </thead>\n",
       "  <tbody>\n",
       "    <tr>\n",
       "      <th>0</th>\n",
       "      <td>SR Tendulkar (INDIA)</td>\n",
       "      <td>1989-2012</td>\n",
       "      <td>463</td>\n",
       "      <td>452.0</td>\n",
       "      <td>41.0</td>\n",
       "      <td>18426.0</td>\n",
       "      <td>200*</td>\n",
       "      <td>44.83</td>\n",
       "      <td>21367.0</td>\n",
       "      <td>86.23</td>\n",
       "      <td>49.0</td>\n",
       "      <td>96.0</td>\n",
       "      <td>20.0</td>\n",
       "      <td>http://stats.espncricinfo.com/ci/content/playe...</td>\n",
       "    </tr>\n",
       "    <tr>\n",
       "      <th>1</th>\n",
       "      <td>KC Sangakkara (Asia/ICC/SL)</td>\n",
       "      <td>2000-2015</td>\n",
       "      <td>404</td>\n",
       "      <td>380.0</td>\n",
       "      <td>41.0</td>\n",
       "      <td>14234.0</td>\n",
       "      <td>169</td>\n",
       "      <td>41.98</td>\n",
       "      <td>18048.0</td>\n",
       "      <td>78.86</td>\n",
       "      <td>25.0</td>\n",
       "      <td>93.0</td>\n",
       "      <td>15.0</td>\n",
       "      <td>http://stats.espncricinfo.com/ci/content/playe...</td>\n",
       "    </tr>\n",
       "    <tr>\n",
       "      <th>2</th>\n",
       "      <td>RT Ponting (AUS/ICC)</td>\n",
       "      <td>1995-2012</td>\n",
       "      <td>375</td>\n",
       "      <td>365.0</td>\n",
       "      <td>39.0</td>\n",
       "      <td>13704.0</td>\n",
       "      <td>164</td>\n",
       "      <td>42.03</td>\n",
       "      <td>17046.0</td>\n",
       "      <td>80.39</td>\n",
       "      <td>30.0</td>\n",
       "      <td>82.0</td>\n",
       "      <td>20.0</td>\n",
       "      <td>http://stats.espncricinfo.com/ci/content/playe...</td>\n",
       "    </tr>\n",
       "    <tr>\n",
       "      <th>3</th>\n",
       "      <td>ST Jayasuriya (Asia/SL)</td>\n",
       "      <td>1989-2011</td>\n",
       "      <td>445</td>\n",
       "      <td>433.0</td>\n",
       "      <td>18.0</td>\n",
       "      <td>13430.0</td>\n",
       "      <td>189</td>\n",
       "      <td>32.36</td>\n",
       "      <td>14725.0</td>\n",
       "      <td>91.20</td>\n",
       "      <td>28.0</td>\n",
       "      <td>68.0</td>\n",
       "      <td>34.0</td>\n",
       "      <td>http://stats.espncricinfo.com/ci/content/playe...</td>\n",
       "    </tr>\n",
       "    <tr>\n",
       "      <th>4</th>\n",
       "      <td>DPMD Jayawardene (Asia/SL)</td>\n",
       "      <td>1998-2015</td>\n",
       "      <td>448</td>\n",
       "      <td>418.0</td>\n",
       "      <td>39.0</td>\n",
       "      <td>12650.0</td>\n",
       "      <td>144</td>\n",
       "      <td>33.37</td>\n",
       "      <td>16020.0</td>\n",
       "      <td>78.96</td>\n",
       "      <td>19.0</td>\n",
       "      <td>77.0</td>\n",
       "      <td>28.0</td>\n",
       "      <td>http://stats.espncricinfo.com/ci/content/playe...</td>\n",
       "    </tr>\n",
       "  </tbody>\n",
       "</table>\n",
       "</div>"
      ],
      "text/plain": [
       "                        Player       Span  Mat   Inns    NO     Runs    HS  \\\n",
       "0         SR Tendulkar (INDIA)  1989-2012  463  452.0  41.0  18426.0  200*   \n",
       "1  KC Sangakkara (Asia/ICC/SL)  2000-2015  404  380.0  41.0  14234.0   169   \n",
       "2         RT Ponting (AUS/ICC)  1995-2012  375  365.0  39.0  13704.0   164   \n",
       "3      ST Jayasuriya (Asia/SL)  1989-2011  445  433.0  18.0  13430.0   189   \n",
       "4   DPMD Jayawardene (Asia/SL)  1998-2015  448  418.0  39.0  12650.0   144   \n",
       "\n",
       "     Ave       BF     SR   100    50     0  \\\n",
       "0  44.83  21367.0  86.23  49.0  96.0  20.0   \n",
       "1  41.98  18048.0  78.86  25.0  93.0  15.0   \n",
       "2  42.03  17046.0  80.39  30.0  82.0  20.0   \n",
       "3  32.36  14725.0  91.20  28.0  68.0  34.0   \n",
       "4  33.37  16020.0  78.96  19.0  77.0  28.0   \n",
       "\n",
       "                                          Player_URL  \n",
       "0  http://stats.espncricinfo.com/ci/content/playe...  \n",
       "1  http://stats.espncricinfo.com/ci/content/playe...  \n",
       "2  http://stats.espncricinfo.com/ci/content/playe...  \n",
       "3  http://stats.espncricinfo.com/ci/content/playe...  \n",
       "4  http://stats.espncricinfo.com/ci/content/playe...  "
      ]
     },
     "execution_count": 297,
     "metadata": {},
     "output_type": "execute_result"
    }
   ],
   "source": [
    "df.head()"
   ]
  },
  {
   "cell_type": "markdown",
   "metadata": {},
   "source": [
    "### Pre-Processing , Data Cleaning\n",
    " - Fixing Fields Name\n",
    " - Removing Unwanted Features\n",
    " - Seprating Data from Single Field to Multiple Fields\n",
    " - Removing Null Values\n",
    " - Converting Data Types\n",
    " - Calculating Field"
   ]
  },
  {
   "cell_type": "code",
   "execution_count": 298,
   "metadata": {},
   "outputs": [],
   "source": [
    "#First of Fixing Filed Names \n",
    "df.rename(columns={'Mat':'Matches','Inns':'Innings','NO':'Player Number','HS':'High Score','Ave':'Average','SR':'Strike Rate','100':'Century','50':'Fifty','0':'Zero','BF':'Ball Faced'},inplace=True)"
   ]
  },
  {
   "cell_type": "code",
   "execution_count": 299,
   "metadata": {},
   "outputs": [
    {
     "data": {
      "text/html": [
       "<div>\n",
       "<style scoped>\n",
       "    .dataframe tbody tr th:only-of-type {\n",
       "        vertical-align: middle;\n",
       "    }\n",
       "\n",
       "    .dataframe tbody tr th {\n",
       "        vertical-align: top;\n",
       "    }\n",
       "\n",
       "    .dataframe thead th {\n",
       "        text-align: right;\n",
       "    }\n",
       "</style>\n",
       "<table border=\"1\" class=\"dataframe\">\n",
       "  <thead>\n",
       "    <tr style=\"text-align: right;\">\n",
       "      <th></th>\n",
       "      <th>Player</th>\n",
       "      <th>Span</th>\n",
       "      <th>Matches</th>\n",
       "      <th>Innings</th>\n",
       "      <th>Player Number</th>\n",
       "      <th>Runs</th>\n",
       "      <th>High Score</th>\n",
       "      <th>Average</th>\n",
       "      <th>Ball Faced</th>\n",
       "      <th>Strike Rate</th>\n",
       "      <th>Century</th>\n",
       "      <th>Fifty</th>\n",
       "      <th>Zero</th>\n",
       "      <th>Player_URL</th>\n",
       "    </tr>\n",
       "  </thead>\n",
       "  <tbody>\n",
       "    <tr>\n",
       "      <th>0</th>\n",
       "      <td>SR Tendulkar (INDIA)</td>\n",
       "      <td>1989-2012</td>\n",
       "      <td>463</td>\n",
       "      <td>452.0</td>\n",
       "      <td>41.0</td>\n",
       "      <td>18426.0</td>\n",
       "      <td>200*</td>\n",
       "      <td>44.83</td>\n",
       "      <td>21367.0</td>\n",
       "      <td>86.23</td>\n",
       "      <td>49.0</td>\n",
       "      <td>96.0</td>\n",
       "      <td>20.0</td>\n",
       "      <td>http://stats.espncricinfo.com/ci/content/playe...</td>\n",
       "    </tr>\n",
       "    <tr>\n",
       "      <th>1</th>\n",
       "      <td>KC Sangakkara (Asia/ICC/SL)</td>\n",
       "      <td>2000-2015</td>\n",
       "      <td>404</td>\n",
       "      <td>380.0</td>\n",
       "      <td>41.0</td>\n",
       "      <td>14234.0</td>\n",
       "      <td>169</td>\n",
       "      <td>41.98</td>\n",
       "      <td>18048.0</td>\n",
       "      <td>78.86</td>\n",
       "      <td>25.0</td>\n",
       "      <td>93.0</td>\n",
       "      <td>15.0</td>\n",
       "      <td>http://stats.espncricinfo.com/ci/content/playe...</td>\n",
       "    </tr>\n",
       "    <tr>\n",
       "      <th>2</th>\n",
       "      <td>RT Ponting (AUS/ICC)</td>\n",
       "      <td>1995-2012</td>\n",
       "      <td>375</td>\n",
       "      <td>365.0</td>\n",
       "      <td>39.0</td>\n",
       "      <td>13704.0</td>\n",
       "      <td>164</td>\n",
       "      <td>42.03</td>\n",
       "      <td>17046.0</td>\n",
       "      <td>80.39</td>\n",
       "      <td>30.0</td>\n",
       "      <td>82.0</td>\n",
       "      <td>20.0</td>\n",
       "      <td>http://stats.espncricinfo.com/ci/content/playe...</td>\n",
       "    </tr>\n",
       "    <tr>\n",
       "      <th>3</th>\n",
       "      <td>ST Jayasuriya (Asia/SL)</td>\n",
       "      <td>1989-2011</td>\n",
       "      <td>445</td>\n",
       "      <td>433.0</td>\n",
       "      <td>18.0</td>\n",
       "      <td>13430.0</td>\n",
       "      <td>189</td>\n",
       "      <td>32.36</td>\n",
       "      <td>14725.0</td>\n",
       "      <td>91.20</td>\n",
       "      <td>28.0</td>\n",
       "      <td>68.0</td>\n",
       "      <td>34.0</td>\n",
       "      <td>http://stats.espncricinfo.com/ci/content/playe...</td>\n",
       "    </tr>\n",
       "    <tr>\n",
       "      <th>4</th>\n",
       "      <td>DPMD Jayawardene (Asia/SL)</td>\n",
       "      <td>1998-2015</td>\n",
       "      <td>448</td>\n",
       "      <td>418.0</td>\n",
       "      <td>39.0</td>\n",
       "      <td>12650.0</td>\n",
       "      <td>144</td>\n",
       "      <td>33.37</td>\n",
       "      <td>16020.0</td>\n",
       "      <td>78.96</td>\n",
       "      <td>19.0</td>\n",
       "      <td>77.0</td>\n",
       "      <td>28.0</td>\n",
       "      <td>http://stats.espncricinfo.com/ci/content/playe...</td>\n",
       "    </tr>\n",
       "  </tbody>\n",
       "</table>\n",
       "</div>"
      ],
      "text/plain": [
       "                        Player       Span  Matches  Innings  Player Number  \\\n",
       "0         SR Tendulkar (INDIA)  1989-2012      463    452.0           41.0   \n",
       "1  KC Sangakkara (Asia/ICC/SL)  2000-2015      404    380.0           41.0   \n",
       "2         RT Ponting (AUS/ICC)  1995-2012      375    365.0           39.0   \n",
       "3      ST Jayasuriya (Asia/SL)  1989-2011      445    433.0           18.0   \n",
       "4   DPMD Jayawardene (Asia/SL)  1998-2015      448    418.0           39.0   \n",
       "\n",
       "      Runs High Score  Average  Ball Faced  Strike Rate  Century  Fifty  Zero  \\\n",
       "0  18426.0       200*    44.83     21367.0        86.23     49.0   96.0  20.0   \n",
       "1  14234.0        169    41.98     18048.0        78.86     25.0   93.0  15.0   \n",
       "2  13704.0        164    42.03     17046.0        80.39     30.0   82.0  20.0   \n",
       "3  13430.0        189    32.36     14725.0        91.20     28.0   68.0  34.0   \n",
       "4  12650.0        144    33.37     16020.0        78.96     19.0   77.0  28.0   \n",
       "\n",
       "                                          Player_URL  \n",
       "0  http://stats.espncricinfo.com/ci/content/playe...  \n",
       "1  http://stats.espncricinfo.com/ci/content/playe...  \n",
       "2  http://stats.espncricinfo.com/ci/content/playe...  \n",
       "3  http://stats.espncricinfo.com/ci/content/playe...  \n",
       "4  http://stats.espncricinfo.com/ci/content/playe...  "
      ]
     },
     "execution_count": 299,
     "metadata": {},
     "output_type": "execute_result"
    }
   ],
   "source": [
    "df.head()"
   ]
  },
  {
   "cell_type": "code",
   "execution_count": 300,
   "metadata": {},
   "outputs": [],
   "source": [
    "#Remvoing Unwanted Feature\n",
    "df=df.drop(['Player_URL','Ball Faced'],axis=1)"
   ]
  },
  {
   "cell_type": "code",
   "execution_count": 301,
   "metadata": {},
   "outputs": [],
   "source": [
    "#Span is containng two dates as start & end with string data type we will seprate them & convert to date (datatype)\n",
    "df[['Start Date','End Date']]=df.Span.str.split(pat='-',expand=True)"
   ]
  },
  {
   "cell_type": "code",
   "execution_count": 302,
   "metadata": {},
   "outputs": [],
   "source": [
    "df.drop('Span',axis=1,inplace=True)"
   ]
  },
  {
   "cell_type": "code",
   "execution_count": 303,
   "metadata": {},
   "outputs": [
    {
     "data": {
      "text/html": [
       "<div>\n",
       "<style scoped>\n",
       "    .dataframe tbody tr th:only-of-type {\n",
       "        vertical-align: middle;\n",
       "    }\n",
       "\n",
       "    .dataframe tbody tr th {\n",
       "        vertical-align: top;\n",
       "    }\n",
       "\n",
       "    .dataframe thead th {\n",
       "        text-align: right;\n",
       "    }\n",
       "</style>\n",
       "<table border=\"1\" class=\"dataframe\">\n",
       "  <thead>\n",
       "    <tr style=\"text-align: right;\">\n",
       "      <th></th>\n",
       "      <th>Player</th>\n",
       "      <th>Matches</th>\n",
       "      <th>Innings</th>\n",
       "      <th>Player Number</th>\n",
       "      <th>Runs</th>\n",
       "      <th>High Score</th>\n",
       "      <th>Average</th>\n",
       "      <th>Strike Rate</th>\n",
       "      <th>Century</th>\n",
       "      <th>Fifty</th>\n",
       "      <th>Zero</th>\n",
       "      <th>Start Date</th>\n",
       "      <th>End Date</th>\n",
       "    </tr>\n",
       "  </thead>\n",
       "  <tbody>\n",
       "    <tr>\n",
       "      <th>0</th>\n",
       "      <td>SR Tendulkar (INDIA)</td>\n",
       "      <td>463</td>\n",
       "      <td>452.0</td>\n",
       "      <td>41.0</td>\n",
       "      <td>18426.0</td>\n",
       "      <td>200*</td>\n",
       "      <td>44.83</td>\n",
       "      <td>86.23</td>\n",
       "      <td>49.0</td>\n",
       "      <td>96.0</td>\n",
       "      <td>20.0</td>\n",
       "      <td>1989</td>\n",
       "      <td>2012</td>\n",
       "    </tr>\n",
       "    <tr>\n",
       "      <th>1</th>\n",
       "      <td>KC Sangakkara (Asia/ICC/SL)</td>\n",
       "      <td>404</td>\n",
       "      <td>380.0</td>\n",
       "      <td>41.0</td>\n",
       "      <td>14234.0</td>\n",
       "      <td>169</td>\n",
       "      <td>41.98</td>\n",
       "      <td>78.86</td>\n",
       "      <td>25.0</td>\n",
       "      <td>93.0</td>\n",
       "      <td>15.0</td>\n",
       "      <td>2000</td>\n",
       "      <td>2015</td>\n",
       "    </tr>\n",
       "    <tr>\n",
       "      <th>2</th>\n",
       "      <td>RT Ponting (AUS/ICC)</td>\n",
       "      <td>375</td>\n",
       "      <td>365.0</td>\n",
       "      <td>39.0</td>\n",
       "      <td>13704.0</td>\n",
       "      <td>164</td>\n",
       "      <td>42.03</td>\n",
       "      <td>80.39</td>\n",
       "      <td>30.0</td>\n",
       "      <td>82.0</td>\n",
       "      <td>20.0</td>\n",
       "      <td>1995</td>\n",
       "      <td>2012</td>\n",
       "    </tr>\n",
       "    <tr>\n",
       "      <th>3</th>\n",
       "      <td>ST Jayasuriya (Asia/SL)</td>\n",
       "      <td>445</td>\n",
       "      <td>433.0</td>\n",
       "      <td>18.0</td>\n",
       "      <td>13430.0</td>\n",
       "      <td>189</td>\n",
       "      <td>32.36</td>\n",
       "      <td>91.20</td>\n",
       "      <td>28.0</td>\n",
       "      <td>68.0</td>\n",
       "      <td>34.0</td>\n",
       "      <td>1989</td>\n",
       "      <td>2011</td>\n",
       "    </tr>\n",
       "    <tr>\n",
       "      <th>4</th>\n",
       "      <td>DPMD Jayawardene (Asia/SL)</td>\n",
       "      <td>448</td>\n",
       "      <td>418.0</td>\n",
       "      <td>39.0</td>\n",
       "      <td>12650.0</td>\n",
       "      <td>144</td>\n",
       "      <td>33.37</td>\n",
       "      <td>78.96</td>\n",
       "      <td>19.0</td>\n",
       "      <td>77.0</td>\n",
       "      <td>28.0</td>\n",
       "      <td>1998</td>\n",
       "      <td>2015</td>\n",
       "    </tr>\n",
       "  </tbody>\n",
       "</table>\n",
       "</div>"
      ],
      "text/plain": [
       "                        Player  Matches  Innings  Player Number     Runs  \\\n",
       "0         SR Tendulkar (INDIA)      463    452.0           41.0  18426.0   \n",
       "1  KC Sangakkara (Asia/ICC/SL)      404    380.0           41.0  14234.0   \n",
       "2         RT Ponting (AUS/ICC)      375    365.0           39.0  13704.0   \n",
       "3      ST Jayasuriya (Asia/SL)      445    433.0           18.0  13430.0   \n",
       "4   DPMD Jayawardene (Asia/SL)      448    418.0           39.0  12650.0   \n",
       "\n",
       "  High Score  Average  Strike Rate  Century  Fifty  Zero Start Date End Date  \n",
       "0       200*    44.83        86.23     49.0   96.0  20.0       1989     2012  \n",
       "1        169    41.98        78.86     25.0   93.0  15.0       2000     2015  \n",
       "2        164    42.03        80.39     30.0   82.0  20.0       1995     2012  \n",
       "3        189    32.36        91.20     28.0   68.0  34.0       1989     2011  \n",
       "4        144    33.37        78.96     19.0   77.0  28.0       1998     2015  "
      ]
     },
     "execution_count": 303,
     "metadata": {},
     "output_type": "execute_result"
    }
   ],
   "source": [
    "df.head()"
   ]
  },
  {
   "cell_type": "code",
   "execution_count": 304,
   "metadata": {},
   "outputs": [
    {
     "data": {
      "text/plain": [
       "Player           0.000000\n",
       "Matches          0.000000\n",
       "Innings          3.592121\n",
       "Player Number    3.592121\n",
       "Runs             3.592121\n",
       "High Score       3.592121\n",
       "Average          8.227115\n",
       "Strike Rate      3.939745\n",
       "Century          3.592121\n",
       "Fifty            3.592121\n",
       "Zero             3.592121\n",
       "Start Date       0.000000\n",
       "End Date         0.000000\n",
       "dtype: float64"
      ]
     },
     "execution_count": 304,
     "metadata": {},
     "output_type": "execute_result"
    }
   ],
   "source": [
    "#Checking Null Percentage \n",
    "df.isnull().sum()/df.shape[0]*100"
   ]
  },
  {
   "cell_type": "code",
   "execution_count": 305,
   "metadata": {},
   "outputs": [
    {
     "data": {
      "text/plain": [
       "<matplotlib.axes._subplots.AxesSubplot at 0x1cec8bd4e80>"
      ]
     },
     "execution_count": 305,
     "metadata": {},
     "output_type": "execute_result"
    },
    {
     "data": {
      "image/png": "[encoded data removed]",
      "text/plain": [
       "<Figure size 432x288 with 2 Axes>"
      ]
     },
     "metadata": {
      "needs_background": "light"
     },
     "output_type": "display_data"
    }
   ],
   "source": [
    "# visualizing null values \n",
    "sns.heatmap(df.isnull())"
   ]
  },
  {
   "cell_type": "code",
   "execution_count": 306,
   "metadata": {},
   "outputs": [],
   "source": [
    "#i will drop all null values with single function because all are less than 5% except average but i also them\n",
    "clear_empty_df=df.dropna()"
   ]
  },
  {
   "cell_type": "code",
   "execution_count": 307,
   "metadata": {},
   "outputs": [
    {
     "data": {
      "text/plain": [
       "<matplotlib.axes._subplots.AxesSubplot at 0x1cec8bdc7f0>"
      ]
     },
     "execution_count": 307,
     "metadata": {},
     "output_type": "execute_result"
    },
    {
     "data": {
      "image/png": "[encoded data removed]",
      "text/plain": [
       "<Figure size 432x288 with 2 Axes>"
      ]
     },
     "metadata": {
      "needs_background": "light"
     },
     "output_type": "display_data"
    }
   ],
   "source": [
    "# visualizing after cleaning data\n",
    "sns.heatmap(clear_empty_df.isnull())\n",
    "#Shoiwng zero null values"
   ]
  },
  {
   "cell_type": "code",
   "execution_count": 308,
   "metadata": {},
   "outputs": [
    {
     "data": {
      "text/plain": [
       "Player           0\n",
       "Matches          0\n",
       "Innings          0\n",
       "Player Number    0\n",
       "Runs             0\n",
       "High Score       0\n",
       "Average          0\n",
       "Strike Rate      0\n",
       "Century          0\n",
       "Fifty            0\n",
       "Zero             0\n",
       "Start Date       0\n",
       "End Date         0\n",
       "dtype: int64"
      ]
     },
     "execution_count": 308,
     "metadata": {},
     "output_type": "execute_result"
    }
   ],
   "source": [
    "#Calculating Null Values\n",
    "clear_empty_df.isnull().sum()"
   ]
  },
  {
   "cell_type": "code",
   "execution_count": 309,
   "metadata": {},
   "outputs": [
    {
     "data": {
      "text/plain": [
       "Player            object\n",
       "Matches            int64\n",
       "Innings          float64\n",
       "Player Number    float64\n",
       "Runs             float64\n",
       "High Score        object\n",
       "Average          float64\n",
       "Strike Rate      float64\n",
       "Century          float64\n",
       "Fifty            float64\n",
       "Zero             float64\n",
       "Start Date        object\n",
       "End Date          object\n",
       "dtype: object"
      ]
     },
     "execution_count": 309,
     "metadata": {},
     "output_type": "execute_result"
    }
   ],
   "source": [
    "#now check datatypes for calculation\n",
    "clear_empty_df.dtypes\n",
    "# But still String Type exist in High Score "
   ]
  },
  {
   "cell_type": "code",
   "execution_count": 310,
   "metadata": {},
   "outputs": [
    {
     "data": {
      "text/plain": [
       "array(['200*', '169', '164', '189', '144', '183', '137*', '139', '153',\n",
       "       '183*', '215', '161*', '141*', '172', '176', '153*', '145', '264',\n",
       "       '194', '150', '152*', '132*', '173', '181*', '219', '159', '175',\n",
       "       '124', '134*', '130', '120*', '143', '131*', '119*', '148', '102',\n",
       "       '145*', '141', '174*', '108*', '154', '188*', '189*', '237*',\n",
       "       '140*', '142*', '139*', '127*', '122', '166', '121', '133*',\n",
       "       '113*', '185*', '178*', '116*', '112', '185', '109*', '119',\n",
       "       '144*', '150*', '179', '96*', '156', '115', '178', '134', '117',\n",
       "       '107*', '147*', '116', '126*', '137', '142', '158', '177', '123',\n",
       "       '118', '128*', '103', '117*', '101', '104', '175*', '86', '129*',\n",
       "       '102*', '125*', '111', '103*', '105', '109', '180', '107', '108',\n",
       "       '72*', '110', '170', '112*', '79*', '93', '151', '111*', '121*',\n",
       "       '135', '136', '83', '101*', '95', '160*', '130*', '161', '106',\n",
       "       '171', '167*', '99', '89', '114', '131', '100', '138*', '87', '90',\n",
       "       '114*', '140', '82', '123*', '78', '79', '115*', '113', '98*',\n",
       "       '50*', '90*', '98', '210*', '92', '82*', '84', '160', '66*', '80*',\n",
       "       '71*', '96', '99*', '127', '51*', '100*', '128', '56', '172*',\n",
       "       '132', '124*', '74', '176*', '171*', '104*', '105*', '97', '80',\n",
       "       '67', '110*', '88*', '61', '129', '68*', '170*', '76', '120', '73',\n",
       "       '63*', '85*', '118*', '69', '133', '97*', '74*', '49', '159*',\n",
       "       '66', '69*', '77', '95*', '59', '81', '72', '78*', '77*', '47',\n",
       "       '70', '65', '88', '62*', '146*', '54', '92*', '89*', '55', '50',\n",
       "       '60', '37', '73*', '26', '60*', '53', '93*', '85', '45*', '75*',\n",
       "       '51', '71', '194*', '143*', '58*', '83*', '152', '34*', '86*',\n",
       "       '53*', '62', '94', '58', '81*', '45', '48*', '37*', '52', '65*',\n",
       "       '54*', '33*', '67*', '41*', '31*', '57', '42', '46', '46*', '146',\n",
       "       '61*', '57*', '42*', '68', '91*', '52*', '91', '157*', '64', '33',\n",
       "       '84*', '47*', '43', '44', '34', '169*', '63', '44*', '70*', '59*',\n",
       "       '36', '39', '76*', '49*', '75', '48', '41', '32', '35*', '43*',\n",
       "       '30', '30*', '31', '35', '40', '28', '39*', '32*', '94*', '16*',\n",
       "       '20', '21*', '19', '38', '24', '23*', '27', '56*', '21', '29*',\n",
       "       '22', '20*', '38*', '29', '23', '18', '25', '17*', '17', '19*',\n",
       "       '26*', '24*', '22*', '27*', '11', '13*', '15*', '18*', '87*', '13',\n",
       "       '36*', '40*', '15', '25*', '28*', '12', '14', '12*', '16', '9*',\n",
       "       '11*', '10*', '8*', '10', '6', '14*', '8', '9', '6*', '7*', '7',\n",
       "       '5', '5*', '4*', '4', '2', '3*', '3', '2*', '1', '1*', '0', '0*'],\n",
       "      dtype=object)"
      ]
     },
     "execution_count": 310,
     "metadata": {},
     "output_type": "execute_result"
    }
   ],
   "source": [
    "clear_empty_df['High Score'].unique()\n",
    "# Showing some '*' whcih reprsents \"not out\" so need to seprate them"
   ]
  },
  {
   "cell_type": "code",
   "execution_count": 311,
   "metadata": {},
   "outputs": [],
   "source": [
    "# defining function for cleaning HS & making new field\n",
    "def cleaning_sep(series):\n",
    "    final=[]\n",
    "    for val in series:\n",
    "        # Not Out\n",
    "        if '*' in val:\n",
    "            final.append(1)\n",
    "        # Out\n",
    "        else:\n",
    "            final.append(0)\n",
    "    return pd.Series(final,name='Final',dtype='int64'),series.str.replace('*','')\n",
    "Final,HS=cleaning_sep(clear_empty_df['High Score'])"
   ]
  },
  {
   "cell_type": "code",
   "execution_count": 312,
   "metadata": {},
   "outputs": [
    {
     "name": "stderr",
     "output_type": "stream",
     "text": [
      "C:\\Users\\H A M Z A\\Anaconda3\\lib\\site-packages\\ipykernel_launcher.py:1: SettingWithCopyWarning: \n",
      "A value is trying to be set on a copy of a slice from a DataFrame.\n",
      "Try using .loc[row_indexer,col_indexer] = value instead\n",
      "\n",
      "See the caveats in the documentation: http://pandas.pydata.org/pandas-docs/stable/indexing.html#indexing-view-versus-copy\n",
      "  \"\"\"Entry point for launching an IPython kernel.\n",
      "C:\\Users\\H A M Z A\\Anaconda3\\lib\\site-packages\\ipykernel_launcher.py:2: SettingWithCopyWarning: \n",
      "A value is trying to be set on a copy of a slice from a DataFrame.\n",
      "Try using .loc[row_indexer,col_indexer] = value instead\n",
      "\n",
      "See the caveats in the documentation: http://pandas.pydata.org/pandas-docs/stable/indexing.html#indexing-view-versus-copy\n",
      "  \n"
     ]
    }
   ],
   "source": [
    "clear_empty_df['Final']=Final\n",
    "clear_empty_df['HIGH SCORE']=HS"
   ]
  },
  {
   "cell_type": "code",
   "execution_count": 313,
   "metadata": {},
   "outputs": [],
   "source": [
    "#Checking new updates\n",
    "clear_empty_df.head()\n",
    "#Removing noised High Score Field which is irrelevent now\n",
    "clear_empty_df.drop(\"High Score\",inplace=True,axis=1)"
   ]
  },
  {
   "cell_type": "code",
   "execution_count": 314,
   "metadata": {},
   "outputs": [
    {
     "data": {
      "text/plain": [
       "Player            object\n",
       "Matches            int64\n",
       "Innings          float64\n",
       "Player Number    float64\n",
       "Runs             float64\n",
       "Average          float64\n",
       "Strike Rate      float64\n",
       "Century          float64\n",
       "Fifty            float64\n",
       "Zero             float64\n",
       "Start Date        object\n",
       "End Date          object\n",
       "Final            float64\n",
       "HIGH SCORE        object\n",
       "dtype: object"
      ]
     },
     "execution_count": 314,
     "metadata": {},
     "output_type": "execute_result"
    }
   ],
   "source": [
    "# Finally Chekcing Data types & fixing them as date for Start & End Date & int64 for HIGH SCORE\n",
    "clear_empty_df.dtypes"
   ]
  },
  {
   "cell_type": "code",
   "execution_count": 315,
   "metadata": {},
   "outputs": [
    {
     "name": "stderr",
     "output_type": "stream",
     "text": [
      "C:\\Users\\H A M Z A\\Anaconda3\\lib\\site-packages\\ipykernel_launcher.py:2: SettingWithCopyWarning: \n",
      "A value is trying to be set on a copy of a slice from a DataFrame.\n",
      "Try using .loc[row_indexer,col_indexer] = value instead\n",
      "\n",
      "See the caveats in the documentation: http://pandas.pydata.org/pandas-docs/stable/indexing.html#indexing-view-versus-copy\n",
      "  \n",
      "C:\\Users\\H A M Z A\\Anaconda3\\lib\\site-packages\\ipykernel_launcher.py:3: SettingWithCopyWarning: \n",
      "A value is trying to be set on a copy of a slice from a DataFrame.\n",
      "Try using .loc[row_indexer,col_indexer] = value instead\n",
      "\n",
      "See the caveats in the documentation: http://pandas.pydata.org/pandas-docs/stable/indexing.html#indexing-view-versus-copy\n",
      "  This is separate from the ipykernel package so we can avoid doing imports until\n",
      "C:\\Users\\H A M Z A\\Anaconda3\\lib\\site-packages\\ipykernel_launcher.py:4: SettingWithCopyWarning: \n",
      "A value is trying to be set on a copy of a slice from a DataFrame.\n",
      "Try using .loc[row_indexer,col_indexer] = value instead\n",
      "\n",
      "See the caveats in the documentation: http://pandas.pydata.org/pandas-docs/stable/indexing.html#indexing-view-versus-copy\n",
      "  after removing the cwd from sys.path.\n"
     ]
    }
   ],
   "source": [
    "# Changing Datatypes\n",
    "clear_empty_df['HIGH SCORE']=clear_empty_df['HIGH SCORE'].astype('int64')\n",
    "clear_empty_df['Start Date']=pd.to_datetime(clear_empty_df['Start Date'])\n",
    "clear_empty_df['End Date']=pd.to_datetime(clear_empty_df['End Date'])"
   ]
  },
  {
   "cell_type": "code",
   "execution_count": 316,
   "metadata": {},
   "outputs": [
    {
     "name": "stderr",
     "output_type": "stream",
     "text": [
      "C:\\Users\\H A M Z A\\Anaconda3\\lib\\site-packages\\ipykernel_launcher.py:12: SettingWithCopyWarning: \n",
      "A value is trying to be set on a copy of a slice from a DataFrame.\n",
      "Try using .loc[row_indexer,col_indexer] = value instead\n",
      "\n",
      "See the caveats in the documentation: http://pandas.pydata.org/pandas-docs/stable/indexing.html#indexing-view-versus-copy\n",
      "  if sys.path[0] == '':\n",
      "C:\\Users\\H A M Z A\\Anaconda3\\lib\\site-packages\\ipykernel_launcher.py:13: SettingWithCopyWarning: \n",
      "A value is trying to be set on a copy of a slice from a DataFrame.\n",
      "Try using .loc[row_indexer,col_indexer] = value instead\n",
      "\n",
      "See the caveats in the documentation: http://pandas.pydata.org/pandas-docs/stable/indexing.html#indexing-view-versus-copy\n",
      "  del sys.path[0]\n"
     ]
    }
   ],
   "source": [
    "# Player field also need cleaing for seprating country names\n",
    "def seprating(series):\n",
    "    player_names=[]\n",
    "    country_names=[]\n",
    "    sep=series.str.split('(')\n",
    "    for pl in sep:\n",
    "        player_names.append(pl[0].replace('\\xa0',''))\n",
    "    for cn in sep:\n",
    "        country_names.append(cn[1].replace('ICC','').replace('Asia','').replace('Afr','').replace('/','').replace(')',''))\n",
    "    return pd.Series(player_names,name='Player'),pd.Series(country_names,name='Country')\n",
    "players,country=seprating(clear_empty_df.Player)\n",
    "clear_empty_df['Player']=players\n",
    "clear_empty_df['Country']=country"
   ]
  },
  {
   "cell_type": "code",
   "execution_count": 317,
   "metadata": {},
   "outputs": [],
   "source": [
    "pure_df=clear_empty_df.copy()"
   ]
  },
  {
   "cell_type": "code",
   "execution_count": 318,
   "metadata": {},
   "outputs": [],
   "source": [
    "# Career finding for each player\n",
    "pure_df['Career']=pure_df['End Date'].dt.year-pure_df['Start Date'].dt.year"
   ]
  },
  {
   "cell_type": "markdown",
   "metadata": {},
   "source": [
    "#### Our data is 100% clean for Descriptive Analysis "
   ]
  },
  {
   "cell_type": "code",
   "execution_count": 319,
   "metadata": {},
   "outputs": [
    {
     "data": {
      "text/html": [
       "<div>\n",
       "<style scoped>\n",
       "    .dataframe tbody tr th:only-of-type {\n",
       "        vertical-align: middle;\n",
       "    }\n",
       "\n",
       "    .dataframe tbody tr th {\n",
       "        vertical-align: top;\n",
       "    }\n",
       "\n",
       "    .dataframe thead th {\n",
       "        text-align: right;\n",
       "    }\n",
       "</style>\n",
       "<table border=\"1\" class=\"dataframe\">\n",
       "  <thead>\n",
       "    <tr style=\"text-align: right;\">\n",
       "      <th></th>\n",
       "      <th>Player</th>\n",
       "      <th>Matches</th>\n",
       "      <th>Innings</th>\n",
       "      <th>Player Number</th>\n",
       "      <th>Runs</th>\n",
       "      <th>Average</th>\n",
       "      <th>Strike Rate</th>\n",
       "      <th>Century</th>\n",
       "      <th>Fifty</th>\n",
       "      <th>Zero</th>\n",
       "      <th>Start Date</th>\n",
       "      <th>End Date</th>\n",
       "      <th>Final</th>\n",
       "      <th>HIGH SCORE</th>\n",
       "      <th>Country</th>\n",
       "      <th>Career</th>\n",
       "    </tr>\n",
       "  </thead>\n",
       "  <tbody>\n",
       "    <tr>\n",
       "      <th>0</th>\n",
       "      <td>SR Tendulkar</td>\n",
       "      <td>463</td>\n",
       "      <td>452.0</td>\n",
       "      <td>41.0</td>\n",
       "      <td>18426.0</td>\n",
       "      <td>44.83</td>\n",
       "      <td>86.23</td>\n",
       "      <td>49.0</td>\n",
       "      <td>96.0</td>\n",
       "      <td>20.0</td>\n",
       "      <td>1989-01-01</td>\n",
       "      <td>2012-01-01</td>\n",
       "      <td>1.0</td>\n",
       "      <td>200</td>\n",
       "      <td>INDIA</td>\n",
       "      <td>23</td>\n",
       "    </tr>\n",
       "    <tr>\n",
       "      <th>1</th>\n",
       "      <td>KC Sangakkara</td>\n",
       "      <td>404</td>\n",
       "      <td>380.0</td>\n",
       "      <td>41.0</td>\n",
       "      <td>14234.0</td>\n",
       "      <td>41.98</td>\n",
       "      <td>78.86</td>\n",
       "      <td>25.0</td>\n",
       "      <td>93.0</td>\n",
       "      <td>15.0</td>\n",
       "      <td>2000-01-01</td>\n",
       "      <td>2015-01-01</td>\n",
       "      <td>0.0</td>\n",
       "      <td>169</td>\n",
       "      <td>SL</td>\n",
       "      <td>15</td>\n",
       "    </tr>\n",
       "    <tr>\n",
       "      <th>2</th>\n",
       "      <td>RT Ponting</td>\n",
       "      <td>375</td>\n",
       "      <td>365.0</td>\n",
       "      <td>39.0</td>\n",
       "      <td>13704.0</td>\n",
       "      <td>42.03</td>\n",
       "      <td>80.39</td>\n",
       "      <td>30.0</td>\n",
       "      <td>82.0</td>\n",
       "      <td>20.0</td>\n",
       "      <td>1995-01-01</td>\n",
       "      <td>2012-01-01</td>\n",
       "      <td>0.0</td>\n",
       "      <td>164</td>\n",
       "      <td>AUS</td>\n",
       "      <td>17</td>\n",
       "    </tr>\n",
       "    <tr>\n",
       "      <th>3</th>\n",
       "      <td>ST Jayasuriya</td>\n",
       "      <td>445</td>\n",
       "      <td>433.0</td>\n",
       "      <td>18.0</td>\n",
       "      <td>13430.0</td>\n",
       "      <td>32.36</td>\n",
       "      <td>91.20</td>\n",
       "      <td>28.0</td>\n",
       "      <td>68.0</td>\n",
       "      <td>34.0</td>\n",
       "      <td>1989-01-01</td>\n",
       "      <td>2011-01-01</td>\n",
       "      <td>0.0</td>\n",
       "      <td>189</td>\n",
       "      <td>SL</td>\n",
       "      <td>22</td>\n",
       "    </tr>\n",
       "    <tr>\n",
       "      <th>4</th>\n",
       "      <td>DPMD Jayawardene</td>\n",
       "      <td>448</td>\n",
       "      <td>418.0</td>\n",
       "      <td>39.0</td>\n",
       "      <td>12650.0</td>\n",
       "      <td>33.37</td>\n",
       "      <td>78.96</td>\n",
       "      <td>19.0</td>\n",
       "      <td>77.0</td>\n",
       "      <td>28.0</td>\n",
       "      <td>1998-01-01</td>\n",
       "      <td>2015-01-01</td>\n",
       "      <td>0.0</td>\n",
       "      <td>144</td>\n",
       "      <td>SL</td>\n",
       "      <td>17</td>\n",
       "    </tr>\n",
       "  </tbody>\n",
       "</table>\n",
       "</div>"
      ],
      "text/plain": [
       "             Player  Matches  Innings  Player Number     Runs  Average  \\\n",
       "0      SR Tendulkar      463    452.0           41.0  18426.0    44.83   \n",
       "1     KC Sangakkara      404    380.0           41.0  14234.0    41.98   \n",
       "2        RT Ponting      375    365.0           39.0  13704.0    42.03   \n",
       "3     ST Jayasuriya      445    433.0           18.0  13430.0    32.36   \n",
       "4  DPMD Jayawardene      448    418.0           39.0  12650.0    33.37   \n",
       "\n",
       "   Strike Rate  Century  Fifty  Zero Start Date   End Date  Final  HIGH SCORE  \\\n",
       "0        86.23     49.0   96.0  20.0 1989-01-01 2012-01-01    1.0         200   \n",
       "1        78.86     25.0   93.0  15.0 2000-01-01 2015-01-01    0.0         169   \n",
       "2        80.39     30.0   82.0  20.0 1995-01-01 2012-01-01    0.0         164   \n",
       "3        91.20     28.0   68.0  34.0 1989-01-01 2011-01-01    0.0         189   \n",
       "4        78.96     19.0   77.0  28.0 1998-01-01 2015-01-01    0.0         144   \n",
       "\n",
       "  Country  Career  \n",
       "0   INDIA      23  \n",
       "1      SL      15  \n",
       "2     AUS      17  \n",
       "3      SL      22  \n",
       "4      SL      17  "
      ]
     },
     "execution_count": 319,
     "metadata": {},
     "output_type": "execute_result"
    }
   ],
   "source": [
    "pure_df.head()"
   ]
  },
  {
   "cell_type": "markdown",
   "metadata": {},
   "source": [
    "#### Top 10 Players of Country which has total Runs "
   ]
  },
  {
   "cell_type": "code",
   "execution_count": 320,
   "metadata": {},
   "outputs": [
    {
     "data": {
      "text/plain": [
       "<matplotlib.axes._subplots.AxesSubplot at 0x1cec624afd0>"
      ]
     },
     "execution_count": 320,
     "metadata": {},
     "output_type": "execute_result"
    },
    {
     "data": {
      "image/png": "[encoded data removed]",
      "text/plain": [
       "<Figure size 432x288 with 1 Axes>"
      ]
     },
     "metadata": {
      "needs_background": "light"
     },
     "output_type": "display_data"
    }
   ],
   "source": [
    "pure_df.groupby(['Country','Player']).Runs.max().sort_values(ascending=False).iloc[:10].plot(kind='barh')"
   ]
  },
  {
   "cell_type": "markdown",
   "metadata": {},
   "source": [
    "#### Top 10 Players which did more Centuries"
   ]
  },
  {
   "cell_type": "code",
   "execution_count": 321,
   "metadata": {},
   "outputs": [
    {
     "data": {
      "text/plain": [
       "<matplotlib.axes._subplots.AxesSubplot at 0x1cec8e85a58>"
      ]
     },
     "execution_count": 321,
     "metadata": {},
     "output_type": "execute_result"
    },
    {
     "data": {
      "image/png": "[encoded data removed]",
      "text/plain": [
       "<Figure size 432x288 with 1 Axes>"
      ]
     },
     "metadata": {
      "needs_background": "light"
     },
     "output_type": "display_data"
    }
   ],
   "source": [
    "pure_df.groupby('Player')['Century'].sum().sort_values(ascending=False).iloc[:10].plot(kind='bar')"
   ]
  },
  {
   "cell_type": "markdown",
   "metadata": {},
   "source": [
    "#### Top 10 Players which did more Fifties"
   ]
  },
  {
   "cell_type": "code",
   "execution_count": 322,
   "metadata": {},
   "outputs": [
    {
     "data": {
      "text/plain": [
       "<matplotlib.axes._subplots.AxesSubplot at 0x1cec8c14390>"
      ]
     },
     "execution_count": 322,
     "metadata": {},
     "output_type": "execute_result"
    },
    {
     "data": {
      "image/png": "[encoded data removed]",
      "text/plain": [
       "<Figure size 432x288 with 1 Axes>"
      ]
     },
     "metadata": {
      "needs_background": "light"
     },
     "output_type": "display_data"
    }
   ],
   "source": [
    "pure_df.groupby('Player')['Fifty'].sum().sort_values(ascending=False).iloc[:10].plot(kind='barh')"
   ]
  },
  {
   "cell_type": "markdown",
   "metadata": {},
   "source": [
    "#### Top 10 Players which give wicket on zero score"
   ]
  },
  {
   "cell_type": "code",
   "execution_count": 323,
   "metadata": {},
   "outputs": [
    {
     "data": {
      "text/plain": [
       "<matplotlib.axes._subplots.AxesSubplot at 0x1cec8f19550>"
      ]
     },
     "execution_count": 323,
     "metadata": {},
     "output_type": "execute_result"
    },
    {
     "data": {
      "image/png": "[encoded data removed]",
      "text/plain": [
       "<Figure size 720x360 with 1 Axes>"
      ]
     },
     "metadata": {
      "needs_background": "light"
     },
     "output_type": "display_data"
    }
   ],
   "source": [
    "plt.figure(figsize=(10,5))\n",
    "pure_df.groupby('Player')['Zero'].sum().sort_values(ascending=False).iloc[:10].plot(kind='barh')"
   ]
  },
  {
   "cell_type": "markdown",
   "metadata": {},
   "source": [
    "#### Top 10 Players Played of Long Careers"
   ]
  },
  {
   "cell_type": "code",
   "execution_count": 324,
   "metadata": {},
   "outputs": [
    {
     "data": {
      "text/plain": [
       "<matplotlib.axes._subplots.AxesSubplot at 0x1cec9015240>"
      ]
     },
     "execution_count": 324,
     "metadata": {},
     "output_type": "execute_result"
    },
    {
     "data": {
      "image/png": "[encoded data removed]",
      "text/plain": [
       "<Figure size 432x288 with 1 Axes>"
      ]
     },
     "metadata": {
      "needs_background": "light"
     },
     "output_type": "display_data"
    }
   ],
   "source": [
    "pure_df.groupby('Player')['Career'].sum().sort_values(ascending=False).iloc[:10].plot(kind='bar')"
   ]
  },
  {
   "cell_type": "markdown",
   "metadata": {},
   "source": [
    "#### Top 10 Players which did Best Score in ODI Ranking"
   ]
  },
  {
   "cell_type": "code",
   "execution_count": 325,
   "metadata": {},
   "outputs": [
    {
     "data": {
      "text/plain": [
       "<matplotlib.axes._subplots.AxesSubplot at 0x1cec90910b8>"
      ]
     },
     "execution_count": 325,
     "metadata": {},
     "output_type": "execute_result"
    },
    {
     "data": {
      "image/png": "[encoded data removed]",
      "text/plain": [
       "<Figure size 432x288 with 1 Axes>"
      ]
     },
     "metadata": {
      "needs_background": "light"
     },
     "output_type": "display_data"
    }
   ],
   "source": [
    "pure_df.groupby('Player')['HIGH SCORE'].max().sort_values(ascending=False).iloc[:10].plot(kind='barh')"
   ]
  },
  {
   "cell_type": "markdown",
   "metadata": {},
   "source": [
    "#### Top 10 Players of Country with High Strike"
   ]
  },
  {
   "cell_type": "code",
   "execution_count": 326,
   "metadata": {},
   "outputs": [
    {
     "data": {
      "text/plain": [
       "<matplotlib.axes._subplots.AxesSubplot at 0x1cec910a9b0>"
      ]
     },
     "execution_count": 326,
     "metadata": {},
     "output_type": "execute_result"
    },
    {
     "data": {
      "image/png": "[encoded data removed]",
      "text/plain": [
       "<Figure size 432x288 with 1 Axes>"
      ]
     },
     "metadata": {
      "needs_background": "light"
     },
     "output_type": "display_data"
    }
   ],
   "source": [
    "pure_df.groupby(['Country','Player'])['Strike Rate'].max().sort_values(ascending=False).iloc[:10].plot(kind='barh')"
   ]
  },
  {
   "cell_type": "markdown",
   "metadata": {},
   "source": [
    "#### Top 10 Players of Country which has long Career and  Best Averages"
   ]
  },
  {
   "cell_type": "code",
   "execution_count": 327,
   "metadata": {},
   "outputs": [
    {
     "data": {
      "text/plain": [
       "<matplotlib.axes._subplots.AxesSubplot at 0x1cec918cc50>"
      ]
     },
     "execution_count": 327,
     "metadata": {},
     "output_type": "execute_result"
    },
    {
     "data": {
      "image/png": "[encoded data removed]",
      "text/plain": [
       "<Figure size 432x288 with 1 Axes>"
      ]
     },
     "metadata": {
      "needs_background": "light"
     },
     "output_type": "display_data"
    }
   ],
   "source": [
    "pure_df[pure_df.Career.values>=15].groupby(['Country','Player','Career'])['Average'].sum().sort_values(ascending=False).iloc[:10].plot(kind='barh')"
   ]
  },
  {
   "cell_type": "markdown",
   "metadata": {},
   "source": [
    "#### Top 10 Players which Played more Mathces"
   ]
  },
  {
   "cell_type": "code",
   "execution_count": 328,
   "metadata": {},
   "outputs": [
    {
     "data": {
      "text/plain": [
       "<matplotlib.axes._subplots.AxesSubplot at 0x1ceca1b49b0>"
      ]
     },
     "execution_count": 328,
     "metadata": {},
     "output_type": "execute_result"
    },
    {
     "data": {
      "image/png": "[encoded data removed]",
      "text/plain": [
       "<Figure size 432x288 with 1 Axes>"
      ]
     },
     "metadata": {
      "needs_background": "light"
     },
     "output_type": "display_data"
    }
   ],
   "source": [
    "pure_df.groupby(['Country','Player'])['Matches'].max().sort_values(ascending=False).iloc[:10].plot(kind='barh')"
   ]
  },
  {
   "cell_type": "markdown",
   "metadata": {},
   "source": [
    "#### Top 10 Countres for Highest Total Runs in ODI "
   ]
  },
  {
   "cell_type": "code",
   "execution_count": 331,
   "metadata": {},
   "outputs": [
    {
     "data": {
      "text/plain": [
       "<matplotlib.axes._subplots.AxesSubplot at 0x1ceca362a20>"
      ]
     },
     "execution_count": 331,
     "metadata": {},
     "output_type": "execute_result"
    },
    {
     "data": {
      "image/png": "[encoded data removed]",
      "text/plain": [
       "<Figure size 1080x720 with 1 Axes>"
      ]
     },
     "metadata": {
      "needs_background": "light"
     },
     "output_type": "display_data"
    }
   ],
   "source": [
    "plt.figure(figsize=(15,10))\n",
    "pure_df.groupby(['Country'])['Runs'].sum().sort_values(ascending=False).iloc[:10].plot(kind='barh')"
   ]
  },
  {
   "cell_type": "code",
   "execution_count": null,
   "metadata": {},
   "outputs": [],
   "source": []
  }
 ],
 "metadata": {
  "kernelspec": {
   "display_name": "Python 3",
   "language": "python",
   "name": "python3"
  },
  "language_info": {
   "codemirror_mode": {
    "name": "ipython",
    "version": 3
   },
   "file_extension": ".py",
   "mimetype": "text/x-python",
   "name": "python",
   "nbconvert_exporter": "python",
   "pygments_lexer": "ipython3",
   "version": "3.7.3"
  }
 },
 "nbformat": 4,
 "nbformat_minor": 2
}
